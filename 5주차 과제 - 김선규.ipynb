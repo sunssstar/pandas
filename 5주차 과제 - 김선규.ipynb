{
 "cells": [
  {
   "cell_type": "code",
   "execution_count": 1,
   "id": "c47c7bf3",
   "metadata": {},
   "outputs": [],
   "source": [
    "import numpy as np\n",
    "import pandas as pd"
   ]
  },
  {
   "cell_type": "code",
   "execution_count": 2,
   "id": "92b26477",
   "metadata": {},
   "outputs": [
    {
     "data": {
      "text/plain": [
       "0    1.0\n",
       "1    3.0\n",
       "2    5.0\n",
       "3    NaN\n",
       "4    6.0\n",
       "5    8.0\n",
       "dtype: float64"
      ]
     },
     "execution_count": 2,
     "metadata": {},
     "output_type": "execute_result"
    }
   ],
   "source": [
    " s = pd.Series([1, 3, 5, np.nan, 6, 8])\n",
    " s"
   ]
  },
  {
   "cell_type": "code",
   "execution_count": 3,
   "id": "770b3370",
   "metadata": {},
   "outputs": [],
   "source": [
    "dates = pd.date_range(20130101,periods=6)"
   ]
  },
  {
   "cell_type": "code",
   "execution_count": 4,
   "id": "2e0650e3",
   "metadata": {},
   "outputs": [
    {
     "data": {
      "text/plain": [
       "DatetimeIndex(['1970-01-01 00:00:00.020130101',\n",
       "               '1970-01-02 00:00:00.020130101',\n",
       "               '1970-01-03 00:00:00.020130101',\n",
       "               '1970-01-04 00:00:00.020130101',\n",
       "               '1970-01-05 00:00:00.020130101',\n",
       "               '1970-01-06 00:00:00.020130101'],\n",
       "              dtype='datetime64[ns]', freq='D')"
      ]
     },
     "execution_count": 4,
     "metadata": {},
     "output_type": "execute_result"
    }
   ],
   "source": [
    "dates"
   ]
  },
  {
   "cell_type": "code",
   "execution_count": 5,
   "id": "6e659cca",
   "metadata": {},
   "outputs": [],
   "source": [
    " df = pd.DataFrame(np.random.randn(6, 4), index=dates, columns=list(\"ABCD\"))"
   ]
  },
  {
   "cell_type": "code",
   "execution_count": 6,
   "id": "355c0ee8",
   "metadata": {},
   "outputs": [
    {
     "data": {
      "text/html": [
       "<div>\n",
       "<style scoped>\n",
       "    .dataframe tbody tr th:only-of-type {\n",
       "        vertical-align: middle;\n",
       "    }\n",
       "\n",
       "    .dataframe tbody tr th {\n",
       "        vertical-align: top;\n",
       "    }\n",
       "\n",
       "    .dataframe thead th {\n",
       "        text-align: right;\n",
       "    }\n",
       "</style>\n",
       "<table border=\"1\" class=\"dataframe\">\n",
       "  <thead>\n",
       "    <tr style=\"text-align: right;\">\n",
       "      <th></th>\n",
       "      <th>A</th>\n",
       "      <th>B</th>\n",
       "      <th>C</th>\n",
       "      <th>D</th>\n",
       "    </tr>\n",
       "  </thead>\n",
       "  <tbody>\n",
       "    <tr>\n",
       "      <th>1970-01-01 00:00:00.020130101</th>\n",
       "      <td>-0.026401</td>\n",
       "      <td>-0.775873</td>\n",
       "      <td>-1.296309</td>\n",
       "      <td>0.852299</td>\n",
       "    </tr>\n",
       "    <tr>\n",
       "      <th>1970-01-02 00:00:00.020130101</th>\n",
       "      <td>1.132846</td>\n",
       "      <td>-0.414975</td>\n",
       "      <td>-2.488727</td>\n",
       "      <td>-0.850545</td>\n",
       "    </tr>\n",
       "    <tr>\n",
       "      <th>1970-01-03 00:00:00.020130101</th>\n",
       "      <td>-0.612309</td>\n",
       "      <td>1.289009</td>\n",
       "      <td>0.070275</td>\n",
       "      <td>-0.208976</td>\n",
       "    </tr>\n",
       "    <tr>\n",
       "      <th>1970-01-04 00:00:00.020130101</th>\n",
       "      <td>1.598106</td>\n",
       "      <td>0.914315</td>\n",
       "      <td>-0.713180</td>\n",
       "      <td>0.255029</td>\n",
       "    </tr>\n",
       "    <tr>\n",
       "      <th>1970-01-05 00:00:00.020130101</th>\n",
       "      <td>-0.633304</td>\n",
       "      <td>-0.398617</td>\n",
       "      <td>0.098791</td>\n",
       "      <td>-0.240868</td>\n",
       "    </tr>\n",
       "    <tr>\n",
       "      <th>1970-01-06 00:00:00.020130101</th>\n",
       "      <td>2.138550</td>\n",
       "      <td>0.743311</td>\n",
       "      <td>-1.013176</td>\n",
       "      <td>-0.669759</td>\n",
       "    </tr>\n",
       "  </tbody>\n",
       "</table>\n",
       "</div>"
      ],
      "text/plain": [
       "                                      A         B         C         D\n",
       "1970-01-01 00:00:00.020130101 -0.026401 -0.775873 -1.296309  0.852299\n",
       "1970-01-02 00:00:00.020130101  1.132846 -0.414975 -2.488727 -0.850545\n",
       "1970-01-03 00:00:00.020130101 -0.612309  1.289009  0.070275 -0.208976\n",
       "1970-01-04 00:00:00.020130101  1.598106  0.914315 -0.713180  0.255029\n",
       "1970-01-05 00:00:00.020130101 -0.633304 -0.398617  0.098791 -0.240868\n",
       "1970-01-06 00:00:00.020130101  2.138550  0.743311 -1.013176 -0.669759"
      ]
     },
     "execution_count": 6,
     "metadata": {},
     "output_type": "execute_result"
    }
   ],
   "source": [
    "df"
   ]
  },
  {
   "cell_type": "code",
   "execution_count": 7,
   "id": "470f812d",
   "metadata": {},
   "outputs": [],
   "source": [
    "df2 = pd.DataFrame(\n",
    "   ...:     {\n",
    "   ...:         \"A\": 1.0,\n",
    "   ...:         \"B\": pd.Timestamp(\"20130102\"),\n",
    "   ...:         \"C\": pd.Series(1, index=list(range(4)), dtype=\"float32\"),\n",
    "   ...:         \"D\": np.array([3] * 4, dtype=\"int32\"),\n",
    "   ...:         \"E\": pd.Categorical([\"test\", \"train\", \"test\", \"train\"]),\n",
    "   ...:         \"F\": \"foo\",\n",
    "   ...:     }\n",
    "   ...: )\n",
    "   ...: "
   ]
  },
  {
   "cell_type": "code",
   "execution_count": 8,
   "id": "8e69e2da",
   "metadata": {},
   "outputs": [
    {
     "data": {
      "text/html": [
       "<div>\n",
       "<style scoped>\n",
       "    .dataframe tbody tr th:only-of-type {\n",
       "        vertical-align: middle;\n",
       "    }\n",
       "\n",
       "    .dataframe tbody tr th {\n",
       "        vertical-align: top;\n",
       "    }\n",
       "\n",
       "    .dataframe thead th {\n",
       "        text-align: right;\n",
       "    }\n",
       "</style>\n",
       "<table border=\"1\" class=\"dataframe\">\n",
       "  <thead>\n",
       "    <tr style=\"text-align: right;\">\n",
       "      <th></th>\n",
       "      <th>A</th>\n",
       "      <th>B</th>\n",
       "      <th>C</th>\n",
       "      <th>D</th>\n",
       "      <th>E</th>\n",
       "      <th>F</th>\n",
       "    </tr>\n",
       "  </thead>\n",
       "  <tbody>\n",
       "    <tr>\n",
       "      <th>0</th>\n",
       "      <td>1.0</td>\n",
       "      <td>2013-01-02</td>\n",
       "      <td>1.0</td>\n",
       "      <td>3</td>\n",
       "      <td>test</td>\n",
       "      <td>foo</td>\n",
       "    </tr>\n",
       "    <tr>\n",
       "      <th>1</th>\n",
       "      <td>1.0</td>\n",
       "      <td>2013-01-02</td>\n",
       "      <td>1.0</td>\n",
       "      <td>3</td>\n",
       "      <td>train</td>\n",
       "      <td>foo</td>\n",
       "    </tr>\n",
       "    <tr>\n",
       "      <th>2</th>\n",
       "      <td>1.0</td>\n",
       "      <td>2013-01-02</td>\n",
       "      <td>1.0</td>\n",
       "      <td>3</td>\n",
       "      <td>test</td>\n",
       "      <td>foo</td>\n",
       "    </tr>\n",
       "    <tr>\n",
       "      <th>3</th>\n",
       "      <td>1.0</td>\n",
       "      <td>2013-01-02</td>\n",
       "      <td>1.0</td>\n",
       "      <td>3</td>\n",
       "      <td>train</td>\n",
       "      <td>foo</td>\n",
       "    </tr>\n",
       "  </tbody>\n",
       "</table>\n",
       "</div>"
      ],
      "text/plain": [
       "     A          B    C  D      E    F\n",
       "0  1.0 2013-01-02  1.0  3   test  foo\n",
       "1  1.0 2013-01-02  1.0  3  train  foo\n",
       "2  1.0 2013-01-02  1.0  3   test  foo\n",
       "3  1.0 2013-01-02  1.0  3  train  foo"
      ]
     },
     "execution_count": 8,
     "metadata": {},
     "output_type": "execute_result"
    }
   ],
   "source": [
    "df2"
   ]
  },
  {
   "cell_type": "code",
   "execution_count": 9,
   "id": "eceba1f3",
   "metadata": {},
   "outputs": [
    {
     "data": {
      "text/plain": [
       "A          float64\n",
       "B    datetime64[s]\n",
       "C          float32\n",
       "D            int32\n",
       "E         category\n",
       "F           object\n",
       "dtype: object"
      ]
     },
     "execution_count": 9,
     "metadata": {},
     "output_type": "execute_result"
    }
   ],
   "source": [
    "df2.dtypes"
   ]
  },
  {
   "cell_type": "code",
   "execution_count": 10,
   "id": "bb4dd5c9",
   "metadata": {},
   "outputs": [
    {
     "data": {
      "text/html": [
       "<div>\n",
       "<style scoped>\n",
       "    .dataframe tbody tr th:only-of-type {\n",
       "        vertical-align: middle;\n",
       "    }\n",
       "\n",
       "    .dataframe tbody tr th {\n",
       "        vertical-align: top;\n",
       "    }\n",
       "\n",
       "    .dataframe thead th {\n",
       "        text-align: right;\n",
       "    }\n",
       "</style>\n",
       "<table border=\"1\" class=\"dataframe\">\n",
       "  <thead>\n",
       "    <tr style=\"text-align: right;\">\n",
       "      <th></th>\n",
       "      <th>A</th>\n",
       "      <th>B</th>\n",
       "      <th>C</th>\n",
       "      <th>D</th>\n",
       "      <th>E</th>\n",
       "      <th>F</th>\n",
       "    </tr>\n",
       "  </thead>\n",
       "  <tbody>\n",
       "    <tr>\n",
       "      <th>0</th>\n",
       "      <td>1.0</td>\n",
       "      <td>2013-01-02</td>\n",
       "      <td>1.0</td>\n",
       "      <td>3</td>\n",
       "      <td>test</td>\n",
       "      <td>foo</td>\n",
       "    </tr>\n",
       "    <tr>\n",
       "      <th>1</th>\n",
       "      <td>1.0</td>\n",
       "      <td>2013-01-02</td>\n",
       "      <td>1.0</td>\n",
       "      <td>3</td>\n",
       "      <td>train</td>\n",
       "      <td>foo</td>\n",
       "    </tr>\n",
       "    <tr>\n",
       "      <th>2</th>\n",
       "      <td>1.0</td>\n",
       "      <td>2013-01-02</td>\n",
       "      <td>1.0</td>\n",
       "      <td>3</td>\n",
       "      <td>test</td>\n",
       "      <td>foo</td>\n",
       "    </tr>\n",
       "    <tr>\n",
       "      <th>3</th>\n",
       "      <td>1.0</td>\n",
       "      <td>2013-01-02</td>\n",
       "      <td>1.0</td>\n",
       "      <td>3</td>\n",
       "      <td>train</td>\n",
       "      <td>foo</td>\n",
       "    </tr>\n",
       "  </tbody>\n",
       "</table>\n",
       "</div>"
      ],
      "text/plain": [
       "     A          B    C  D      E    F\n",
       "0  1.0 2013-01-02  1.0  3   test  foo\n",
       "1  1.0 2013-01-02  1.0  3  train  foo\n",
       "2  1.0 2013-01-02  1.0  3   test  foo\n",
       "3  1.0 2013-01-02  1.0  3  train  foo"
      ]
     },
     "execution_count": 10,
     "metadata": {},
     "output_type": "execute_result"
    }
   ],
   "source": [
    "df2"
   ]
  },
  {
   "cell_type": "code",
   "execution_count": 11,
   "id": "bc2cb17a",
   "metadata": {},
   "outputs": [
    {
     "data": {
      "text/html": [
       "<div>\n",
       "<style scoped>\n",
       "    .dataframe tbody tr th:only-of-type {\n",
       "        vertical-align: middle;\n",
       "    }\n",
       "\n",
       "    .dataframe tbody tr th {\n",
       "        vertical-align: top;\n",
       "    }\n",
       "\n",
       "    .dataframe thead th {\n",
       "        text-align: right;\n",
       "    }\n",
       "</style>\n",
       "<table border=\"1\" class=\"dataframe\">\n",
       "  <thead>\n",
       "    <tr style=\"text-align: right;\">\n",
       "      <th></th>\n",
       "      <th>A</th>\n",
       "      <th>B</th>\n",
       "      <th>C</th>\n",
       "      <th>D</th>\n",
       "    </tr>\n",
       "  </thead>\n",
       "  <tbody>\n",
       "    <tr>\n",
       "      <th>1970-01-01 00:00:00.020130101</th>\n",
       "      <td>-0.026401</td>\n",
       "      <td>-0.775873</td>\n",
       "      <td>-1.296309</td>\n",
       "      <td>0.852299</td>\n",
       "    </tr>\n",
       "    <tr>\n",
       "      <th>1970-01-02 00:00:00.020130101</th>\n",
       "      <td>1.132846</td>\n",
       "      <td>-0.414975</td>\n",
       "      <td>-2.488727</td>\n",
       "      <td>-0.850545</td>\n",
       "    </tr>\n",
       "    <tr>\n",
       "      <th>1970-01-03 00:00:00.020130101</th>\n",
       "      <td>-0.612309</td>\n",
       "      <td>1.289009</td>\n",
       "      <td>0.070275</td>\n",
       "      <td>-0.208976</td>\n",
       "    </tr>\n",
       "    <tr>\n",
       "      <th>1970-01-04 00:00:00.020130101</th>\n",
       "      <td>1.598106</td>\n",
       "      <td>0.914315</td>\n",
       "      <td>-0.713180</td>\n",
       "      <td>0.255029</td>\n",
       "    </tr>\n",
       "    <tr>\n",
       "      <th>1970-01-05 00:00:00.020130101</th>\n",
       "      <td>-0.633304</td>\n",
       "      <td>-0.398617</td>\n",
       "      <td>0.098791</td>\n",
       "      <td>-0.240868</td>\n",
       "    </tr>\n",
       "  </tbody>\n",
       "</table>\n",
       "</div>"
      ],
      "text/plain": [
       "                                      A         B         C         D\n",
       "1970-01-01 00:00:00.020130101 -0.026401 -0.775873 -1.296309  0.852299\n",
       "1970-01-02 00:00:00.020130101  1.132846 -0.414975 -2.488727 -0.850545\n",
       "1970-01-03 00:00:00.020130101 -0.612309  1.289009  0.070275 -0.208976\n",
       "1970-01-04 00:00:00.020130101  1.598106  0.914315 -0.713180  0.255029\n",
       "1970-01-05 00:00:00.020130101 -0.633304 -0.398617  0.098791 -0.240868"
      ]
     },
     "execution_count": 11,
     "metadata": {},
     "output_type": "execute_result"
    }
   ],
   "source": [
    "df.head()"
   ]
  },
  {
   "cell_type": "code",
   "execution_count": 12,
   "id": "ba6c74e5",
   "metadata": {},
   "outputs": [
    {
     "data": {
      "text/html": [
       "<div>\n",
       "<style scoped>\n",
       "    .dataframe tbody tr th:only-of-type {\n",
       "        vertical-align: middle;\n",
       "    }\n",
       "\n",
       "    .dataframe tbody tr th {\n",
       "        vertical-align: top;\n",
       "    }\n",
       "\n",
       "    .dataframe thead th {\n",
       "        text-align: right;\n",
       "    }\n",
       "</style>\n",
       "<table border=\"1\" class=\"dataframe\">\n",
       "  <thead>\n",
       "    <tr style=\"text-align: right;\">\n",
       "      <th></th>\n",
       "      <th>A</th>\n",
       "      <th>B</th>\n",
       "      <th>C</th>\n",
       "      <th>D</th>\n",
       "    </tr>\n",
       "  </thead>\n",
       "  <tbody>\n",
       "    <tr>\n",
       "      <th>1970-01-02 00:00:00.020130101</th>\n",
       "      <td>1.132846</td>\n",
       "      <td>-0.414975</td>\n",
       "      <td>-2.488727</td>\n",
       "      <td>-0.850545</td>\n",
       "    </tr>\n",
       "    <tr>\n",
       "      <th>1970-01-03 00:00:00.020130101</th>\n",
       "      <td>-0.612309</td>\n",
       "      <td>1.289009</td>\n",
       "      <td>0.070275</td>\n",
       "      <td>-0.208976</td>\n",
       "    </tr>\n",
       "    <tr>\n",
       "      <th>1970-01-04 00:00:00.020130101</th>\n",
       "      <td>1.598106</td>\n",
       "      <td>0.914315</td>\n",
       "      <td>-0.713180</td>\n",
       "      <td>0.255029</td>\n",
       "    </tr>\n",
       "    <tr>\n",
       "      <th>1970-01-05 00:00:00.020130101</th>\n",
       "      <td>-0.633304</td>\n",
       "      <td>-0.398617</td>\n",
       "      <td>0.098791</td>\n",
       "      <td>-0.240868</td>\n",
       "    </tr>\n",
       "    <tr>\n",
       "      <th>1970-01-06 00:00:00.020130101</th>\n",
       "      <td>2.138550</td>\n",
       "      <td>0.743311</td>\n",
       "      <td>-1.013176</td>\n",
       "      <td>-0.669759</td>\n",
       "    </tr>\n",
       "  </tbody>\n",
       "</table>\n",
       "</div>"
      ],
      "text/plain": [
       "                                      A         B         C         D\n",
       "1970-01-02 00:00:00.020130101  1.132846 -0.414975 -2.488727 -0.850545\n",
       "1970-01-03 00:00:00.020130101 -0.612309  1.289009  0.070275 -0.208976\n",
       "1970-01-04 00:00:00.020130101  1.598106  0.914315 -0.713180  0.255029\n",
       "1970-01-05 00:00:00.020130101 -0.633304 -0.398617  0.098791 -0.240868\n",
       "1970-01-06 00:00:00.020130101  2.138550  0.743311 -1.013176 -0.669759"
      ]
     },
     "execution_count": 12,
     "metadata": {},
     "output_type": "execute_result"
    }
   ],
   "source": [
    "df.tail()"
   ]
  },
  {
   "cell_type": "code",
   "execution_count": 13,
   "id": "ab474c52-371e-4924-b54e-51df0ff5d1e4",
   "metadata": {},
   "outputs": [
    {
     "data": {
      "text/plain": [
       "DatetimeIndex(['1970-01-01 00:00:00.020130101',\n",
       "               '1970-01-02 00:00:00.020130101',\n",
       "               '1970-01-03 00:00:00.020130101',\n",
       "               '1970-01-04 00:00:00.020130101',\n",
       "               '1970-01-05 00:00:00.020130101',\n",
       "               '1970-01-06 00:00:00.020130101'],\n",
       "              dtype='datetime64[ns]', freq='D')"
      ]
     },
     "execution_count": 13,
     "metadata": {},
     "output_type": "execute_result"
    }
   ],
   "source": [
    "df.index"
   ]
  },
  {
   "cell_type": "code",
   "execution_count": 16,
   "id": "dbf2bb1a-d7fc-4132-869b-3c5492658e8b",
   "metadata": {},
   "outputs": [
    {
     "data": {
      "text/plain": [
       "Index(['A', 'B', 'C', 'D'], dtype='object')"
      ]
     },
     "execution_count": 16,
     "metadata": {},
     "output_type": "execute_result"
    }
   ],
   "source": [
    "df.columns"
   ]
  },
  {
   "cell_type": "code",
   "execution_count": 17,
   "id": "2d4cace5-4ae8-4041-a266-e33b8e692837",
   "metadata": {},
   "outputs": [
    {
     "data": {
      "text/plain": [
       "array([[-0.02640067, -0.77587251, -1.29630915,  0.85229938],\n",
       "       [ 1.13284622, -0.41497484, -2.48872741, -0.85054539],\n",
       "       [-0.61230935,  1.28900853,  0.07027531, -0.20897566],\n",
       "       [ 1.59810613,  0.9143152 , -0.7131795 ,  0.25502926],\n",
       "       [-0.63330359, -0.39861721,  0.09879079, -0.24086777],\n",
       "       [ 2.13854987,  0.74331117, -1.01317593, -0.66975906]])"
      ]
     },
     "execution_count": 17,
     "metadata": {},
     "output_type": "execute_result"
    }
   ],
   "source": [
    "df.to_numpy()"
   ]
  },
  {
   "cell_type": "code",
   "execution_count": 18,
   "id": "a4709040-2a36-4a60-b155-04d7a5551269",
   "metadata": {},
   "outputs": [
    {
     "data": {
      "text/plain": [
       "A          float64\n",
       "B    datetime64[s]\n",
       "C          float32\n",
       "D            int32\n",
       "E         category\n",
       "F           object\n",
       "dtype: object"
      ]
     },
     "execution_count": 18,
     "metadata": {},
     "output_type": "execute_result"
    }
   ],
   "source": [
    "df2.dtypes"
   ]
  },
  {
   "cell_type": "code",
   "execution_count": 19,
   "id": "06937cb1-c2e6-4c14-af02-4a7a0ec11b5b",
   "metadata": {},
   "outputs": [
    {
     "data": {
      "text/plain": [
       "array([[1.0, Timestamp('2013-01-02 00:00:00'), 1.0, 3, 'test', 'foo'],\n",
       "       [1.0, Timestamp('2013-01-02 00:00:00'), 1.0, 3, 'train', 'foo'],\n",
       "       [1.0, Timestamp('2013-01-02 00:00:00'), 1.0, 3, 'test', 'foo'],\n",
       "       [1.0, Timestamp('2013-01-02 00:00:00'), 1.0, 3, 'train', 'foo']],\n",
       "      dtype=object)"
      ]
     },
     "execution_count": 19,
     "metadata": {},
     "output_type": "execute_result"
    }
   ],
   "source": [
    "df2.to_numpy()"
   ]
  },
  {
   "cell_type": "code",
   "execution_count": 20,
   "id": "2f463f08-ed68-47d3-b639-914ffe3cf540",
   "metadata": {},
   "outputs": [
    {
     "data": {
      "text/html": [
       "<div>\n",
       "<style scoped>\n",
       "    .dataframe tbody tr th:only-of-type {\n",
       "        vertical-align: middle;\n",
       "    }\n",
       "\n",
       "    .dataframe tbody tr th {\n",
       "        vertical-align: top;\n",
       "    }\n",
       "\n",
       "    .dataframe thead th {\n",
       "        text-align: right;\n",
       "    }\n",
       "</style>\n",
       "<table border=\"1\" class=\"dataframe\">\n",
       "  <thead>\n",
       "    <tr style=\"text-align: right;\">\n",
       "      <th></th>\n",
       "      <th>A</th>\n",
       "      <th>B</th>\n",
       "      <th>C</th>\n",
       "      <th>D</th>\n",
       "    </tr>\n",
       "  </thead>\n",
       "  <tbody>\n",
       "    <tr>\n",
       "      <th>count</th>\n",
       "      <td>6.000000</td>\n",
       "      <td>6.000000</td>\n",
       "      <td>6.000000</td>\n",
       "      <td>6.000000</td>\n",
       "    </tr>\n",
       "    <tr>\n",
       "      <th>mean</th>\n",
       "      <td>0.599581</td>\n",
       "      <td>0.226195</td>\n",
       "      <td>-0.890388</td>\n",
       "      <td>-0.143803</td>\n",
       "    </tr>\n",
       "    <tr>\n",
       "      <th>std</th>\n",
       "      <td>1.185781</td>\n",
       "      <td>0.857452</td>\n",
       "      <td>0.966156</td>\n",
       "      <td>0.623068</td>\n",
       "    </tr>\n",
       "    <tr>\n",
       "      <th>min</th>\n",
       "      <td>-0.633304</td>\n",
       "      <td>-0.775873</td>\n",
       "      <td>-2.488727</td>\n",
       "      <td>-0.850545</td>\n",
       "    </tr>\n",
       "    <tr>\n",
       "      <th>25%</th>\n",
       "      <td>-0.465832</td>\n",
       "      <td>-0.410885</td>\n",
       "      <td>-1.225526</td>\n",
       "      <td>-0.562536</td>\n",
       "    </tr>\n",
       "    <tr>\n",
       "      <th>50%</th>\n",
       "      <td>0.553223</td>\n",
       "      <td>0.172347</td>\n",
       "      <td>-0.863178</td>\n",
       "      <td>-0.224922</td>\n",
       "    </tr>\n",
       "    <tr>\n",
       "      <th>75%</th>\n",
       "      <td>1.481791</td>\n",
       "      <td>0.871564</td>\n",
       "      <td>-0.125588</td>\n",
       "      <td>0.139028</td>\n",
       "    </tr>\n",
       "    <tr>\n",
       "      <th>max</th>\n",
       "      <td>2.138550</td>\n",
       "      <td>1.289009</td>\n",
       "      <td>0.098791</td>\n",
       "      <td>0.852299</td>\n",
       "    </tr>\n",
       "  </tbody>\n",
       "</table>\n",
       "</div>"
      ],
      "text/plain": [
       "              A         B         C         D\n",
       "count  6.000000  6.000000  6.000000  6.000000\n",
       "mean   0.599581  0.226195 -0.890388 -0.143803\n",
       "std    1.185781  0.857452  0.966156  0.623068\n",
       "min   -0.633304 -0.775873 -2.488727 -0.850545\n",
       "25%   -0.465832 -0.410885 -1.225526 -0.562536\n",
       "50%    0.553223  0.172347 -0.863178 -0.224922\n",
       "75%    1.481791  0.871564 -0.125588  0.139028\n",
       "max    2.138550  1.289009  0.098791  0.852299"
      ]
     },
     "execution_count": 20,
     "metadata": {},
     "output_type": "execute_result"
    }
   ],
   "source": [
    "df.describe()"
   ]
  },
  {
   "cell_type": "code",
   "execution_count": 21,
   "id": "0af6acf3-9d09-44fe-8a9e-55e59b165926",
   "metadata": {},
   "outputs": [
    {
     "data": {
      "text/html": [
       "<div>\n",
       "<style scoped>\n",
       "    .dataframe tbody tr th:only-of-type {\n",
       "        vertical-align: middle;\n",
       "    }\n",
       "\n",
       "    .dataframe tbody tr th {\n",
       "        vertical-align: top;\n",
       "    }\n",
       "\n",
       "    .dataframe thead th {\n",
       "        text-align: right;\n",
       "    }\n",
       "</style>\n",
       "<table border=\"1\" class=\"dataframe\">\n",
       "  <thead>\n",
       "    <tr style=\"text-align: right;\">\n",
       "      <th></th>\n",
       "      <th>1970-01-01 00:00:00.020130101</th>\n",
       "      <th>1970-01-02 00:00:00.020130101</th>\n",
       "      <th>1970-01-03 00:00:00.020130101</th>\n",
       "      <th>1970-01-04 00:00:00.020130101</th>\n",
       "      <th>1970-01-05 00:00:00.020130101</th>\n",
       "      <th>1970-01-06 00:00:00.020130101</th>\n",
       "    </tr>\n",
       "  </thead>\n",
       "  <tbody>\n",
       "    <tr>\n",
       "      <th>A</th>\n",
       "      <td>-0.026401</td>\n",
       "      <td>1.132846</td>\n",
       "      <td>-0.612309</td>\n",
       "      <td>1.598106</td>\n",
       "      <td>-0.633304</td>\n",
       "      <td>2.138550</td>\n",
       "    </tr>\n",
       "    <tr>\n",
       "      <th>B</th>\n",
       "      <td>-0.775873</td>\n",
       "      <td>-0.414975</td>\n",
       "      <td>1.289009</td>\n",
       "      <td>0.914315</td>\n",
       "      <td>-0.398617</td>\n",
       "      <td>0.743311</td>\n",
       "    </tr>\n",
       "    <tr>\n",
       "      <th>C</th>\n",
       "      <td>-1.296309</td>\n",
       "      <td>-2.488727</td>\n",
       "      <td>0.070275</td>\n",
       "      <td>-0.713180</td>\n",
       "      <td>0.098791</td>\n",
       "      <td>-1.013176</td>\n",
       "    </tr>\n",
       "    <tr>\n",
       "      <th>D</th>\n",
       "      <td>0.852299</td>\n",
       "      <td>-0.850545</td>\n",
       "      <td>-0.208976</td>\n",
       "      <td>0.255029</td>\n",
       "      <td>-0.240868</td>\n",
       "      <td>-0.669759</td>\n",
       "    </tr>\n",
       "  </tbody>\n",
       "</table>\n",
       "</div>"
      ],
      "text/plain": [
       "   1970-01-01 00:00:00.020130101  1970-01-02 00:00:00.020130101  \\\n",
       "A                      -0.026401                       1.132846   \n",
       "B                      -0.775873                      -0.414975   \n",
       "C                      -1.296309                      -2.488727   \n",
       "D                       0.852299                      -0.850545   \n",
       "\n",
       "   1970-01-03 00:00:00.020130101  1970-01-04 00:00:00.020130101  \\\n",
       "A                      -0.612309                       1.598106   \n",
       "B                       1.289009                       0.914315   \n",
       "C                       0.070275                      -0.713180   \n",
       "D                      -0.208976                       0.255029   \n",
       "\n",
       "   1970-01-05 00:00:00.020130101  1970-01-06 00:00:00.020130101  \n",
       "A                      -0.633304                       2.138550  \n",
       "B                      -0.398617                       0.743311  \n",
       "C                       0.098791                      -1.013176  \n",
       "D                      -0.240868                      -0.669759  "
      ]
     },
     "execution_count": 21,
     "metadata": {},
     "output_type": "execute_result"
    }
   ],
   "source": [
    "df.T"
   ]
  },
  {
   "cell_type": "code",
   "execution_count": 22,
   "id": "f8ba8ee7-ffa2-47a9-9e1c-cf50127df52a",
   "metadata": {},
   "outputs": [
    {
     "data": {
      "text/html": [
       "<div>\n",
       "<style scoped>\n",
       "    .dataframe tbody tr th:only-of-type {\n",
       "        vertical-align: middle;\n",
       "    }\n",
       "\n",
       "    .dataframe tbody tr th {\n",
       "        vertical-align: top;\n",
       "    }\n",
       "\n",
       "    .dataframe thead th {\n",
       "        text-align: right;\n",
       "    }\n",
       "</style>\n",
       "<table border=\"1\" class=\"dataframe\">\n",
       "  <thead>\n",
       "    <tr style=\"text-align: right;\">\n",
       "      <th></th>\n",
       "      <th>D</th>\n",
       "      <th>C</th>\n",
       "      <th>B</th>\n",
       "      <th>A</th>\n",
       "    </tr>\n",
       "  </thead>\n",
       "  <tbody>\n",
       "    <tr>\n",
       "      <th>1970-01-01 00:00:00.020130101</th>\n",
       "      <td>0.852299</td>\n",
       "      <td>-1.296309</td>\n",
       "      <td>-0.775873</td>\n",
       "      <td>-0.026401</td>\n",
       "    </tr>\n",
       "    <tr>\n",
       "      <th>1970-01-02 00:00:00.020130101</th>\n",
       "      <td>-0.850545</td>\n",
       "      <td>-2.488727</td>\n",
       "      <td>-0.414975</td>\n",
       "      <td>1.132846</td>\n",
       "    </tr>\n",
       "    <tr>\n",
       "      <th>1970-01-03 00:00:00.020130101</th>\n",
       "      <td>-0.208976</td>\n",
       "      <td>0.070275</td>\n",
       "      <td>1.289009</td>\n",
       "      <td>-0.612309</td>\n",
       "    </tr>\n",
       "    <tr>\n",
       "      <th>1970-01-04 00:00:00.020130101</th>\n",
       "      <td>0.255029</td>\n",
       "      <td>-0.713180</td>\n",
       "      <td>0.914315</td>\n",
       "      <td>1.598106</td>\n",
       "    </tr>\n",
       "    <tr>\n",
       "      <th>1970-01-05 00:00:00.020130101</th>\n",
       "      <td>-0.240868</td>\n",
       "      <td>0.098791</td>\n",
       "      <td>-0.398617</td>\n",
       "      <td>-0.633304</td>\n",
       "    </tr>\n",
       "    <tr>\n",
       "      <th>1970-01-06 00:00:00.020130101</th>\n",
       "      <td>-0.669759</td>\n",
       "      <td>-1.013176</td>\n",
       "      <td>0.743311</td>\n",
       "      <td>2.138550</td>\n",
       "    </tr>\n",
       "  </tbody>\n",
       "</table>\n",
       "</div>"
      ],
      "text/plain": [
       "                                      D         C         B         A\n",
       "1970-01-01 00:00:00.020130101  0.852299 -1.296309 -0.775873 -0.026401\n",
       "1970-01-02 00:00:00.020130101 -0.850545 -2.488727 -0.414975  1.132846\n",
       "1970-01-03 00:00:00.020130101 -0.208976  0.070275  1.289009 -0.612309\n",
       "1970-01-04 00:00:00.020130101  0.255029 -0.713180  0.914315  1.598106\n",
       "1970-01-05 00:00:00.020130101 -0.240868  0.098791 -0.398617 -0.633304\n",
       "1970-01-06 00:00:00.020130101 -0.669759 -1.013176  0.743311  2.138550"
      ]
     },
     "execution_count": 22,
     "metadata": {},
     "output_type": "execute_result"
    }
   ],
   "source": [
    "df.sort_index(axis=1, ascending=False)\n",
    "# 1번째 열을 기준으로 내림차순"
   ]
  },
  {
   "cell_type": "code",
   "execution_count": 23,
   "id": "baf6607f-570e-495b-a21d-8361fc1c2594",
   "metadata": {},
   "outputs": [
    {
     "data": {
      "text/html": [
       "<div>\n",
       "<style scoped>\n",
       "    .dataframe tbody tr th:only-of-type {\n",
       "        vertical-align: middle;\n",
       "    }\n",
       "\n",
       "    .dataframe tbody tr th {\n",
       "        vertical-align: top;\n",
       "    }\n",
       "\n",
       "    .dataframe thead th {\n",
       "        text-align: right;\n",
       "    }\n",
       "</style>\n",
       "<table border=\"1\" class=\"dataframe\">\n",
       "  <thead>\n",
       "    <tr style=\"text-align: right;\">\n",
       "      <th></th>\n",
       "      <th>A</th>\n",
       "      <th>B</th>\n",
       "      <th>C</th>\n",
       "      <th>D</th>\n",
       "    </tr>\n",
       "  </thead>\n",
       "  <tbody>\n",
       "    <tr>\n",
       "      <th>1970-01-01 00:00:00.020130101</th>\n",
       "      <td>-0.026401</td>\n",
       "      <td>-0.775873</td>\n",
       "      <td>-1.296309</td>\n",
       "      <td>0.852299</td>\n",
       "    </tr>\n",
       "    <tr>\n",
       "      <th>1970-01-02 00:00:00.020130101</th>\n",
       "      <td>1.132846</td>\n",
       "      <td>-0.414975</td>\n",
       "      <td>-2.488727</td>\n",
       "      <td>-0.850545</td>\n",
       "    </tr>\n",
       "    <tr>\n",
       "      <th>1970-01-05 00:00:00.020130101</th>\n",
       "      <td>-0.633304</td>\n",
       "      <td>-0.398617</td>\n",
       "      <td>0.098791</td>\n",
       "      <td>-0.240868</td>\n",
       "    </tr>\n",
       "    <tr>\n",
       "      <th>1970-01-06 00:00:00.020130101</th>\n",
       "      <td>2.138550</td>\n",
       "      <td>0.743311</td>\n",
       "      <td>-1.013176</td>\n",
       "      <td>-0.669759</td>\n",
       "    </tr>\n",
       "    <tr>\n",
       "      <th>1970-01-04 00:00:00.020130101</th>\n",
       "      <td>1.598106</td>\n",
       "      <td>0.914315</td>\n",
       "      <td>-0.713180</td>\n",
       "      <td>0.255029</td>\n",
       "    </tr>\n",
       "    <tr>\n",
       "      <th>1970-01-03 00:00:00.020130101</th>\n",
       "      <td>-0.612309</td>\n",
       "      <td>1.289009</td>\n",
       "      <td>0.070275</td>\n",
       "      <td>-0.208976</td>\n",
       "    </tr>\n",
       "  </tbody>\n",
       "</table>\n",
       "</div>"
      ],
      "text/plain": [
       "                                      A         B         C         D\n",
       "1970-01-01 00:00:00.020130101 -0.026401 -0.775873 -1.296309  0.852299\n",
       "1970-01-02 00:00:00.020130101  1.132846 -0.414975 -2.488727 -0.850545\n",
       "1970-01-05 00:00:00.020130101 -0.633304 -0.398617  0.098791 -0.240868\n",
       "1970-01-06 00:00:00.020130101  2.138550  0.743311 -1.013176 -0.669759\n",
       "1970-01-04 00:00:00.020130101  1.598106  0.914315 -0.713180  0.255029\n",
       "1970-01-03 00:00:00.020130101 -0.612309  1.289009  0.070275 -0.208976"
      ]
     },
     "execution_count": 23,
     "metadata": {},
     "output_type": "execute_result"
    }
   ],
   "source": [
    "df.sort_values(by=\"B\")\n",
    "# B 값으로 정렬 뒤에 뭐가 없으니 기본 값인 오름차순 정렬"
   ]
  },
  {
   "cell_type": "code",
   "execution_count": 25,
   "id": "915ca4e8-24d5-4866-8d0c-f93498ec34db",
   "metadata": {},
   "outputs": [
    {
     "data": {
      "text/html": [
       "<div>\n",
       "<style scoped>\n",
       "    .dataframe tbody tr th:only-of-type {\n",
       "        vertical-align: middle;\n",
       "    }\n",
       "\n",
       "    .dataframe tbody tr th {\n",
       "        vertical-align: top;\n",
       "    }\n",
       "\n",
       "    .dataframe thead th {\n",
       "        text-align: right;\n",
       "    }\n",
       "</style>\n",
       "<table border=\"1\" class=\"dataframe\">\n",
       "  <thead>\n",
       "    <tr style=\"text-align: right;\">\n",
       "      <th></th>\n",
       "      <th>A</th>\n",
       "      <th>B</th>\n",
       "      <th>C</th>\n",
       "      <th>D</th>\n",
       "    </tr>\n",
       "  </thead>\n",
       "  <tbody>\n",
       "    <tr>\n",
       "      <th>1970-01-01 00:00:00.020130101</th>\n",
       "      <td>-0.026401</td>\n",
       "      <td>-0.775873</td>\n",
       "      <td>-1.296309</td>\n",
       "      <td>0.852299</td>\n",
       "    </tr>\n",
       "    <tr>\n",
       "      <th>1970-01-02 00:00:00.020130101</th>\n",
       "      <td>1.132846</td>\n",
       "      <td>-0.414975</td>\n",
       "      <td>-2.488727</td>\n",
       "      <td>-0.850545</td>\n",
       "    </tr>\n",
       "    <tr>\n",
       "      <th>1970-01-03 00:00:00.020130101</th>\n",
       "      <td>-0.612309</td>\n",
       "      <td>1.289009</td>\n",
       "      <td>0.070275</td>\n",
       "      <td>-0.208976</td>\n",
       "    </tr>\n",
       "    <tr>\n",
       "      <th>1970-01-04 00:00:00.020130101</th>\n",
       "      <td>1.598106</td>\n",
       "      <td>0.914315</td>\n",
       "      <td>-0.713180</td>\n",
       "      <td>0.255029</td>\n",
       "    </tr>\n",
       "    <tr>\n",
       "      <th>1970-01-05 00:00:00.020130101</th>\n",
       "      <td>-0.633304</td>\n",
       "      <td>-0.398617</td>\n",
       "      <td>0.098791</td>\n",
       "      <td>-0.240868</td>\n",
       "    </tr>\n",
       "  </tbody>\n",
       "</table>\n",
       "</div>"
      ],
      "text/plain": [
       "                                      A         B         C         D\n",
       "1970-01-01 00:00:00.020130101 -0.026401 -0.775873 -1.296309  0.852299\n",
       "1970-01-02 00:00:00.020130101  1.132846 -0.414975 -2.488727 -0.850545\n",
       "1970-01-03 00:00:00.020130101 -0.612309  1.289009  0.070275 -0.208976\n",
       "1970-01-04 00:00:00.020130101  1.598106  0.914315 -0.713180  0.255029\n",
       "1970-01-05 00:00:00.020130101 -0.633304 -0.398617  0.098791 -0.240868"
      ]
     },
     "execution_count": 25,
     "metadata": {},
     "output_type": "execute_result"
    }
   ],
   "source": [
    "df.head()"
   ]
  },
  {
   "cell_type": "code",
   "execution_count": 24,
   "id": "63447a3f-6792-4993-abbf-99b05ba00247",
   "metadata": {},
   "outputs": [
    {
     "data": {
      "text/plain": [
       "1970-01-01 00:00:00.020130101   -0.026401\n",
       "1970-01-02 00:00:00.020130101    1.132846\n",
       "1970-01-03 00:00:00.020130101   -0.612309\n",
       "1970-01-04 00:00:00.020130101    1.598106\n",
       "1970-01-05 00:00:00.020130101   -0.633304\n",
       "1970-01-06 00:00:00.020130101    2.138550\n",
       "Freq: D, Name: A, dtype: float64"
      ]
     },
     "execution_count": 24,
     "metadata": {},
     "output_type": "execute_result"
    }
   ],
   "source": [
    "df[\"A\"]"
   ]
  },
  {
   "cell_type": "code",
   "execution_count": 26,
   "id": "ef5f55b1-a0a2-4f2c-b175-95bb2ca0f733",
   "metadata": {},
   "outputs": [
    {
     "data": {
      "text/html": [
       "<div>\n",
       "<style scoped>\n",
       "    .dataframe tbody tr th:only-of-type {\n",
       "        vertical-align: middle;\n",
       "    }\n",
       "\n",
       "    .dataframe tbody tr th {\n",
       "        vertical-align: top;\n",
       "    }\n",
       "\n",
       "    .dataframe thead th {\n",
       "        text-align: right;\n",
       "    }\n",
       "</style>\n",
       "<table border=\"1\" class=\"dataframe\">\n",
       "  <thead>\n",
       "    <tr style=\"text-align: right;\">\n",
       "      <th></th>\n",
       "      <th>A</th>\n",
       "      <th>B</th>\n",
       "      <th>C</th>\n",
       "      <th>D</th>\n",
       "    </tr>\n",
       "  </thead>\n",
       "  <tbody>\n",
       "    <tr>\n",
       "      <th>1970-01-01 00:00:00.020130101</th>\n",
       "      <td>-0.026401</td>\n",
       "      <td>-0.775873</td>\n",
       "      <td>-1.296309</td>\n",
       "      <td>0.852299</td>\n",
       "    </tr>\n",
       "    <tr>\n",
       "      <th>1970-01-02 00:00:00.020130101</th>\n",
       "      <td>1.132846</td>\n",
       "      <td>-0.414975</td>\n",
       "      <td>-2.488727</td>\n",
       "      <td>-0.850545</td>\n",
       "    </tr>\n",
       "    <tr>\n",
       "      <th>1970-01-03 00:00:00.020130101</th>\n",
       "      <td>-0.612309</td>\n",
       "      <td>1.289009</td>\n",
       "      <td>0.070275</td>\n",
       "      <td>-0.208976</td>\n",
       "    </tr>\n",
       "  </tbody>\n",
       "</table>\n",
       "</div>"
      ],
      "text/plain": [
       "                                      A         B         C         D\n",
       "1970-01-01 00:00:00.020130101 -0.026401 -0.775873 -1.296309  0.852299\n",
       "1970-01-02 00:00:00.020130101  1.132846 -0.414975 -2.488727 -0.850545\n",
       "1970-01-03 00:00:00.020130101 -0.612309  1.289009  0.070275 -0.208976"
      ]
     },
     "execution_count": 26,
     "metadata": {},
     "output_type": "execute_result"
    }
   ],
   "source": [
    "df[0:3]"
   ]
  },
  {
   "cell_type": "code",
   "execution_count": 30,
   "id": "5a22659a-6977-43a0-906a-20694333824e",
   "metadata": {},
   "outputs": [
    {
     "data": {
      "text/html": [
       "<div>\n",
       "<style scoped>\n",
       "    .dataframe tbody tr th:only-of-type {\n",
       "        vertical-align: middle;\n",
       "    }\n",
       "\n",
       "    .dataframe tbody tr th {\n",
       "        vertical-align: top;\n",
       "    }\n",
       "\n",
       "    .dataframe thead th {\n",
       "        text-align: right;\n",
       "    }\n",
       "</style>\n",
       "<table border=\"1\" class=\"dataframe\">\n",
       "  <thead>\n",
       "    <tr style=\"text-align: right;\">\n",
       "      <th></th>\n",
       "      <th>A</th>\n",
       "      <th>B</th>\n",
       "      <th>C</th>\n",
       "      <th>D</th>\n",
       "    </tr>\n",
       "  </thead>\n",
       "  <tbody>\n",
       "  </tbody>\n",
       "</table>\n",
       "</div>"
      ],
      "text/plain": [
       "Empty DataFrame\n",
       "Columns: [A, B, C, D]\n",
       "Index: []"
      ]
     },
     "execution_count": 30,
     "metadata": {},
     "output_type": "execute_result"
    }
   ],
   "source": [
    "df[\"20130102\":\"20130104\"]"
   ]
  },
  {
   "cell_type": "code",
   "execution_count": 32,
   "id": "6e4ee87f-6195-4673-b662-0662f0187f0d",
   "metadata": {},
   "outputs": [
    {
     "data": {
      "text/html": [
       "<div>\n",
       "<style scoped>\n",
       "    .dataframe tbody tr th:only-of-type {\n",
       "        vertical-align: middle;\n",
       "    }\n",
       "\n",
       "    .dataframe tbody tr th {\n",
       "        vertical-align: top;\n",
       "    }\n",
       "\n",
       "    .dataframe thead th {\n",
       "        text-align: right;\n",
       "    }\n",
       "</style>\n",
       "<table border=\"1\" class=\"dataframe\">\n",
       "  <thead>\n",
       "    <tr style=\"text-align: right;\">\n",
       "      <th></th>\n",
       "      <th>A</th>\n",
       "      <th>B</th>\n",
       "      <th>C</th>\n",
       "      <th>D</th>\n",
       "    </tr>\n",
       "  </thead>\n",
       "  <tbody>\n",
       "    <tr>\n",
       "      <th>1970-01-01 00:00:00.020130101</th>\n",
       "      <td>-0.026401</td>\n",
       "      <td>-0.775873</td>\n",
       "      <td>-1.296309</td>\n",
       "      <td>0.852299</td>\n",
       "    </tr>\n",
       "    <tr>\n",
       "      <th>1970-01-02 00:00:00.020130101</th>\n",
       "      <td>1.132846</td>\n",
       "      <td>-0.414975</td>\n",
       "      <td>-2.488727</td>\n",
       "      <td>-0.850545</td>\n",
       "    </tr>\n",
       "    <tr>\n",
       "      <th>1970-01-03 00:00:00.020130101</th>\n",
       "      <td>-0.612309</td>\n",
       "      <td>1.289009</td>\n",
       "      <td>0.070275</td>\n",
       "      <td>-0.208976</td>\n",
       "    </tr>\n",
       "    <tr>\n",
       "      <th>1970-01-04 00:00:00.020130101</th>\n",
       "      <td>1.598106</td>\n",
       "      <td>0.914315</td>\n",
       "      <td>-0.713180</td>\n",
       "      <td>0.255029</td>\n",
       "    </tr>\n",
       "    <tr>\n",
       "      <th>1970-01-05 00:00:00.020130101</th>\n",
       "      <td>-0.633304</td>\n",
       "      <td>-0.398617</td>\n",
       "      <td>0.098791</td>\n",
       "      <td>-0.240868</td>\n",
       "    </tr>\n",
       "  </tbody>\n",
       "</table>\n",
       "</div>"
      ],
      "text/plain": [
       "                                      A         B         C         D\n",
       "1970-01-01 00:00:00.020130101 -0.026401 -0.775873 -1.296309  0.852299\n",
       "1970-01-02 00:00:00.020130101  1.132846 -0.414975 -2.488727 -0.850545\n",
       "1970-01-03 00:00:00.020130101 -0.612309  1.289009  0.070275 -0.208976\n",
       "1970-01-04 00:00:00.020130101  1.598106  0.914315 -0.713180  0.255029\n",
       "1970-01-05 00:00:00.020130101 -0.633304 -0.398617  0.098791 -0.240868"
      ]
     },
     "execution_count": 32,
     "metadata": {},
     "output_type": "execute_result"
    }
   ],
   "source": [
    "df.head()"
   ]
  },
  {
   "cell_type": "code",
   "execution_count": 31,
   "id": "b3862210-8694-45db-afc5-300e2c910884",
   "metadata": {},
   "outputs": [
    {
     "data": {
      "text/plain": [
       "A   -0.026401\n",
       "B   -0.775873\n",
       "C   -1.296309\n",
       "D    0.852299\n",
       "Name: 1970-01-01 00:00:00.020130101, dtype: float64"
      ]
     },
     "execution_count": 31,
     "metadata": {},
     "output_type": "execute_result"
    }
   ],
   "source": [
    "df.loc[dates[0]]"
   ]
  },
  {
   "cell_type": "code",
   "execution_count": 33,
   "id": "86ec228a-584e-470d-b977-9b63219c6164",
   "metadata": {},
   "outputs": [
    {
     "data": {
      "text/html": [
       "<div>\n",
       "<style scoped>\n",
       "    .dataframe tbody tr th:only-of-type {\n",
       "        vertical-align: middle;\n",
       "    }\n",
       "\n",
       "    .dataframe tbody tr th {\n",
       "        vertical-align: top;\n",
       "    }\n",
       "\n",
       "    .dataframe thead th {\n",
       "        text-align: right;\n",
       "    }\n",
       "</style>\n",
       "<table border=\"1\" class=\"dataframe\">\n",
       "  <thead>\n",
       "    <tr style=\"text-align: right;\">\n",
       "      <th></th>\n",
       "      <th>A</th>\n",
       "      <th>B</th>\n",
       "    </tr>\n",
       "  </thead>\n",
       "  <tbody>\n",
       "    <tr>\n",
       "      <th>1970-01-01 00:00:00.020130101</th>\n",
       "      <td>-0.026401</td>\n",
       "      <td>-0.775873</td>\n",
       "    </tr>\n",
       "    <tr>\n",
       "      <th>1970-01-02 00:00:00.020130101</th>\n",
       "      <td>1.132846</td>\n",
       "      <td>-0.414975</td>\n",
       "    </tr>\n",
       "    <tr>\n",
       "      <th>1970-01-03 00:00:00.020130101</th>\n",
       "      <td>-0.612309</td>\n",
       "      <td>1.289009</td>\n",
       "    </tr>\n",
       "    <tr>\n",
       "      <th>1970-01-04 00:00:00.020130101</th>\n",
       "      <td>1.598106</td>\n",
       "      <td>0.914315</td>\n",
       "    </tr>\n",
       "    <tr>\n",
       "      <th>1970-01-05 00:00:00.020130101</th>\n",
       "      <td>-0.633304</td>\n",
       "      <td>-0.398617</td>\n",
       "    </tr>\n",
       "    <tr>\n",
       "      <th>1970-01-06 00:00:00.020130101</th>\n",
       "      <td>2.138550</td>\n",
       "      <td>0.743311</td>\n",
       "    </tr>\n",
       "  </tbody>\n",
       "</table>\n",
       "</div>"
      ],
      "text/plain": [
       "                                      A         B\n",
       "1970-01-01 00:00:00.020130101 -0.026401 -0.775873\n",
       "1970-01-02 00:00:00.020130101  1.132846 -0.414975\n",
       "1970-01-03 00:00:00.020130101 -0.612309  1.289009\n",
       "1970-01-04 00:00:00.020130101  1.598106  0.914315\n",
       "1970-01-05 00:00:00.020130101 -0.633304 -0.398617\n",
       "1970-01-06 00:00:00.020130101  2.138550  0.743311"
      ]
     },
     "execution_count": 33,
     "metadata": {},
     "output_type": "execute_result"
    }
   ],
   "source": [
    "df.loc[:, [\"A\", \"B\"]]"
   ]
  },
  {
   "cell_type": "code",
   "execution_count": 38,
   "id": "a47e5556-cc2d-4402-bada-986352f5ef97",
   "metadata": {
    "scrolled": true
   },
   "outputs": [
    {
     "data": {
      "text/html": [
       "<div>\n",
       "<style scoped>\n",
       "    .dataframe tbody tr th:only-of-type {\n",
       "        vertical-align: middle;\n",
       "    }\n",
       "\n",
       "    .dataframe tbody tr th {\n",
       "        vertical-align: top;\n",
       "    }\n",
       "\n",
       "    .dataframe thead th {\n",
       "        text-align: right;\n",
       "    }\n",
       "</style>\n",
       "<table border=\"1\" class=\"dataframe\">\n",
       "  <thead>\n",
       "    <tr style=\"text-align: right;\">\n",
       "      <th></th>\n",
       "      <th>A</th>\n",
       "      <th>B</th>\n",
       "    </tr>\n",
       "  </thead>\n",
       "  <tbody>\n",
       "  </tbody>\n",
       "</table>\n",
       "</div>"
      ],
      "text/plain": [
       "Empty DataFrame\n",
       "Columns: [A, B]\n",
       "Index: []"
      ]
     },
     "execution_count": 38,
     "metadata": {},
     "output_type": "execute_result"
    }
   ],
   "source": [
    "df.loc[\"20130102\":\"20130104\", [\"A\", \"B\"]]"
   ]
  },
  {
   "cell_type": "code",
   "execution_count": 35,
   "id": "6be94375-67a3-4e38-a18a-b5fc44a1dadf",
   "metadata": {},
   "outputs": [
    {
     "data": {
      "text/plain": [
       "-0.026400669632077284"
      ]
     },
     "execution_count": 35,
     "metadata": {},
     "output_type": "execute_result"
    }
   ],
   "source": [
    "df.loc[dates[0], \"A\"]"
   ]
  },
  {
   "cell_type": "code",
   "execution_count": 39,
   "id": "ab4d3795-21a6-4db1-a375-d202a28ff282",
   "metadata": {},
   "outputs": [
    {
     "data": {
      "text/plain": [
       "-0.026400669632077284"
      ]
     },
     "execution_count": 39,
     "metadata": {},
     "output_type": "execute_result"
    }
   ],
   "source": [
    "df.at[dates[0], \"A\"]"
   ]
  },
  {
   "cell_type": "code",
   "execution_count": 40,
   "id": "cf91033a-0a6a-401e-bb07-c64b00189a94",
   "metadata": {},
   "outputs": [
    {
     "data": {
      "text/plain": [
       "A    1.598106\n",
       "B    0.914315\n",
       "C   -0.713180\n",
       "D    0.255029\n",
       "Name: 1970-01-04 00:00:00.020130101, dtype: float64"
      ]
     },
     "execution_count": 40,
     "metadata": {},
     "output_type": "execute_result"
    }
   ],
   "source": [
    "df.iloc[3]"
   ]
  },
  {
   "cell_type": "code",
   "execution_count": 41,
   "id": "ae0a0081-9d94-4104-b850-6fa5f2cf90d6",
   "metadata": {},
   "outputs": [
    {
     "data": {
      "text/html": [
       "<div>\n",
       "<style scoped>\n",
       "    .dataframe tbody tr th:only-of-type {\n",
       "        vertical-align: middle;\n",
       "    }\n",
       "\n",
       "    .dataframe tbody tr th {\n",
       "        vertical-align: top;\n",
       "    }\n",
       "\n",
       "    .dataframe thead th {\n",
       "        text-align: right;\n",
       "    }\n",
       "</style>\n",
       "<table border=\"1\" class=\"dataframe\">\n",
       "  <thead>\n",
       "    <tr style=\"text-align: right;\">\n",
       "      <th></th>\n",
       "      <th>A</th>\n",
       "      <th>B</th>\n",
       "      <th>C</th>\n",
       "      <th>D</th>\n",
       "    </tr>\n",
       "  </thead>\n",
       "  <tbody>\n",
       "    <tr>\n",
       "      <th>1970-01-01 00:00:00.020130101</th>\n",
       "      <td>-0.026401</td>\n",
       "      <td>-0.775873</td>\n",
       "      <td>-1.296309</td>\n",
       "      <td>0.852299</td>\n",
       "    </tr>\n",
       "    <tr>\n",
       "      <th>1970-01-02 00:00:00.020130101</th>\n",
       "      <td>1.132846</td>\n",
       "      <td>-0.414975</td>\n",
       "      <td>-2.488727</td>\n",
       "      <td>-0.850545</td>\n",
       "    </tr>\n",
       "    <tr>\n",
       "      <th>1970-01-03 00:00:00.020130101</th>\n",
       "      <td>-0.612309</td>\n",
       "      <td>1.289009</td>\n",
       "      <td>0.070275</td>\n",
       "      <td>-0.208976</td>\n",
       "    </tr>\n",
       "    <tr>\n",
       "      <th>1970-01-04 00:00:00.020130101</th>\n",
       "      <td>1.598106</td>\n",
       "      <td>0.914315</td>\n",
       "      <td>-0.713180</td>\n",
       "      <td>0.255029</td>\n",
       "    </tr>\n",
       "    <tr>\n",
       "      <th>1970-01-05 00:00:00.020130101</th>\n",
       "      <td>-0.633304</td>\n",
       "      <td>-0.398617</td>\n",
       "      <td>0.098791</td>\n",
       "      <td>-0.240868</td>\n",
       "    </tr>\n",
       "    <tr>\n",
       "      <th>1970-01-06 00:00:00.020130101</th>\n",
       "      <td>2.138550</td>\n",
       "      <td>0.743311</td>\n",
       "      <td>-1.013176</td>\n",
       "      <td>-0.669759</td>\n",
       "    </tr>\n",
       "  </tbody>\n",
       "</table>\n",
       "</div>"
      ],
      "text/plain": [
       "                                      A         B         C         D\n",
       "1970-01-01 00:00:00.020130101 -0.026401 -0.775873 -1.296309  0.852299\n",
       "1970-01-02 00:00:00.020130101  1.132846 -0.414975 -2.488727 -0.850545\n",
       "1970-01-03 00:00:00.020130101 -0.612309  1.289009  0.070275 -0.208976\n",
       "1970-01-04 00:00:00.020130101  1.598106  0.914315 -0.713180  0.255029\n",
       "1970-01-05 00:00:00.020130101 -0.633304 -0.398617  0.098791 -0.240868\n",
       "1970-01-06 00:00:00.020130101  2.138550  0.743311 -1.013176 -0.669759"
      ]
     },
     "execution_count": 41,
     "metadata": {},
     "output_type": "execute_result"
    }
   ],
   "source": [
    "df"
   ]
  },
  {
   "cell_type": "code",
   "execution_count": 42,
   "id": "0a604d04-ce2d-427d-b19a-4d096fc3efae",
   "metadata": {},
   "outputs": [
    {
     "data": {
      "text/html": [
       "<div>\n",
       "<style scoped>\n",
       "    .dataframe tbody tr th:only-of-type {\n",
       "        vertical-align: middle;\n",
       "    }\n",
       "\n",
       "    .dataframe tbody tr th {\n",
       "        vertical-align: top;\n",
       "    }\n",
       "\n",
       "    .dataframe thead th {\n",
       "        text-align: right;\n",
       "    }\n",
       "</style>\n",
       "<table border=\"1\" class=\"dataframe\">\n",
       "  <thead>\n",
       "    <tr style=\"text-align: right;\">\n",
       "      <th></th>\n",
       "      <th>A</th>\n",
       "      <th>B</th>\n",
       "    </tr>\n",
       "  </thead>\n",
       "  <tbody>\n",
       "    <tr>\n",
       "      <th>1970-01-04 00:00:00.020130101</th>\n",
       "      <td>1.598106</td>\n",
       "      <td>0.914315</td>\n",
       "    </tr>\n",
       "    <tr>\n",
       "      <th>1970-01-05 00:00:00.020130101</th>\n",
       "      <td>-0.633304</td>\n",
       "      <td>-0.398617</td>\n",
       "    </tr>\n",
       "  </tbody>\n",
       "</table>\n",
       "</div>"
      ],
      "text/plain": [
       "                                      A         B\n",
       "1970-01-04 00:00:00.020130101  1.598106  0.914315\n",
       "1970-01-05 00:00:00.020130101 -0.633304 -0.398617"
      ]
     },
     "execution_count": 42,
     "metadata": {},
     "output_type": "execute_result"
    }
   ],
   "source": [
    "df.iloc[3:5, 0:2]"
   ]
  },
  {
   "cell_type": "code",
   "execution_count": 43,
   "id": "34e7e914-a84c-4b8c-825d-db791f5ae0be",
   "metadata": {},
   "outputs": [
    {
     "data": {
      "text/html": [
       "<div>\n",
       "<style scoped>\n",
       "    .dataframe tbody tr th:only-of-type {\n",
       "        vertical-align: middle;\n",
       "    }\n",
       "\n",
       "    .dataframe tbody tr th {\n",
       "        vertical-align: top;\n",
       "    }\n",
       "\n",
       "    .dataframe thead th {\n",
       "        text-align: right;\n",
       "    }\n",
       "</style>\n",
       "<table border=\"1\" class=\"dataframe\">\n",
       "  <thead>\n",
       "    <tr style=\"text-align: right;\">\n",
       "      <th></th>\n",
       "      <th>A</th>\n",
       "      <th>C</th>\n",
       "    </tr>\n",
       "  </thead>\n",
       "  <tbody>\n",
       "    <tr>\n",
       "      <th>1970-01-02 00:00:00.020130101</th>\n",
       "      <td>1.132846</td>\n",
       "      <td>-2.488727</td>\n",
       "    </tr>\n",
       "    <tr>\n",
       "      <th>1970-01-03 00:00:00.020130101</th>\n",
       "      <td>-0.612309</td>\n",
       "      <td>0.070275</td>\n",
       "    </tr>\n",
       "    <tr>\n",
       "      <th>1970-01-05 00:00:00.020130101</th>\n",
       "      <td>-0.633304</td>\n",
       "      <td>0.098791</td>\n",
       "    </tr>\n",
       "  </tbody>\n",
       "</table>\n",
       "</div>"
      ],
      "text/plain": [
       "                                      A         C\n",
       "1970-01-02 00:00:00.020130101  1.132846 -2.488727\n",
       "1970-01-03 00:00:00.020130101 -0.612309  0.070275\n",
       "1970-01-05 00:00:00.020130101 -0.633304  0.098791"
      ]
     },
     "execution_count": 43,
     "metadata": {},
     "output_type": "execute_result"
    }
   ],
   "source": [
    "df.iloc[[1, 2, 4], [0, 2]]"
   ]
  },
  {
   "cell_type": "code",
   "execution_count": 44,
   "id": "ff9c6115-61dd-470f-a0c8-b217b50e02aa",
   "metadata": {},
   "outputs": [
    {
     "data": {
      "text/html": [
       "<div>\n",
       "<style scoped>\n",
       "    .dataframe tbody tr th:only-of-type {\n",
       "        vertical-align: middle;\n",
       "    }\n",
       "\n",
       "    .dataframe tbody tr th {\n",
       "        vertical-align: top;\n",
       "    }\n",
       "\n",
       "    .dataframe thead th {\n",
       "        text-align: right;\n",
       "    }\n",
       "</style>\n",
       "<table border=\"1\" class=\"dataframe\">\n",
       "  <thead>\n",
       "    <tr style=\"text-align: right;\">\n",
       "      <th></th>\n",
       "      <th>A</th>\n",
       "      <th>B</th>\n",
       "      <th>C</th>\n",
       "      <th>D</th>\n",
       "    </tr>\n",
       "  </thead>\n",
       "  <tbody>\n",
       "    <tr>\n",
       "      <th>1970-01-02 00:00:00.020130101</th>\n",
       "      <td>1.132846</td>\n",
       "      <td>-0.414975</td>\n",
       "      <td>-2.488727</td>\n",
       "      <td>-0.850545</td>\n",
       "    </tr>\n",
       "    <tr>\n",
       "      <th>1970-01-03 00:00:00.020130101</th>\n",
       "      <td>-0.612309</td>\n",
       "      <td>1.289009</td>\n",
       "      <td>0.070275</td>\n",
       "      <td>-0.208976</td>\n",
       "    </tr>\n",
       "  </tbody>\n",
       "</table>\n",
       "</div>"
      ],
      "text/plain": [
       "                                      A         B         C         D\n",
       "1970-01-02 00:00:00.020130101  1.132846 -0.414975 -2.488727 -0.850545\n",
       "1970-01-03 00:00:00.020130101 -0.612309  1.289009  0.070275 -0.208976"
      ]
     },
     "execution_count": 44,
     "metadata": {},
     "output_type": "execute_result"
    }
   ],
   "source": [
    "df.iloc[1:3, :]"
   ]
  },
  {
   "cell_type": "code",
   "execution_count": 45,
   "id": "f760c495-8338-4847-8e81-1726757edceb",
   "metadata": {},
   "outputs": [
    {
     "data": {
      "text/html": [
       "<div>\n",
       "<style scoped>\n",
       "    .dataframe tbody tr th:only-of-type {\n",
       "        vertical-align: middle;\n",
       "    }\n",
       "\n",
       "    .dataframe tbody tr th {\n",
       "        vertical-align: top;\n",
       "    }\n",
       "\n",
       "    .dataframe thead th {\n",
       "        text-align: right;\n",
       "    }\n",
       "</style>\n",
       "<table border=\"1\" class=\"dataframe\">\n",
       "  <thead>\n",
       "    <tr style=\"text-align: right;\">\n",
       "      <th></th>\n",
       "      <th>B</th>\n",
       "      <th>C</th>\n",
       "    </tr>\n",
       "  </thead>\n",
       "  <tbody>\n",
       "    <tr>\n",
       "      <th>1970-01-01 00:00:00.020130101</th>\n",
       "      <td>-0.775873</td>\n",
       "      <td>-1.296309</td>\n",
       "    </tr>\n",
       "    <tr>\n",
       "      <th>1970-01-02 00:00:00.020130101</th>\n",
       "      <td>-0.414975</td>\n",
       "      <td>-2.488727</td>\n",
       "    </tr>\n",
       "    <tr>\n",
       "      <th>1970-01-03 00:00:00.020130101</th>\n",
       "      <td>1.289009</td>\n",
       "      <td>0.070275</td>\n",
       "    </tr>\n",
       "    <tr>\n",
       "      <th>1970-01-04 00:00:00.020130101</th>\n",
       "      <td>0.914315</td>\n",
       "      <td>-0.713180</td>\n",
       "    </tr>\n",
       "    <tr>\n",
       "      <th>1970-01-05 00:00:00.020130101</th>\n",
       "      <td>-0.398617</td>\n",
       "      <td>0.098791</td>\n",
       "    </tr>\n",
       "    <tr>\n",
       "      <th>1970-01-06 00:00:00.020130101</th>\n",
       "      <td>0.743311</td>\n",
       "      <td>-1.013176</td>\n",
       "    </tr>\n",
       "  </tbody>\n",
       "</table>\n",
       "</div>"
      ],
      "text/plain": [
       "                                      B         C\n",
       "1970-01-01 00:00:00.020130101 -0.775873 -1.296309\n",
       "1970-01-02 00:00:00.020130101 -0.414975 -2.488727\n",
       "1970-01-03 00:00:00.020130101  1.289009  0.070275\n",
       "1970-01-04 00:00:00.020130101  0.914315 -0.713180\n",
       "1970-01-05 00:00:00.020130101 -0.398617  0.098791\n",
       "1970-01-06 00:00:00.020130101  0.743311 -1.013176"
      ]
     },
     "execution_count": 45,
     "metadata": {},
     "output_type": "execute_result"
    }
   ],
   "source": [
    "df.iloc[:, 1:3]"
   ]
  },
  {
   "cell_type": "code",
   "execution_count": 46,
   "id": "5d9f3d6d-af40-4b33-b40f-9eec1d82c55c",
   "metadata": {},
   "outputs": [
    {
     "data": {
      "text/plain": [
       "-0.4149748404966933"
      ]
     },
     "execution_count": 46,
     "metadata": {},
     "output_type": "execute_result"
    }
   ],
   "source": [
    " df.iloc[1, 1]"
   ]
  },
  {
   "cell_type": "code",
   "execution_count": 47,
   "id": "6eb99d4c-b2bd-47aa-baa9-a97b7dbd6d36",
   "metadata": {},
   "outputs": [
    {
     "data": {
      "text/plain": [
       "-0.4149748404966933"
      ]
     },
     "execution_count": 47,
     "metadata": {},
     "output_type": "execute_result"
    }
   ],
   "source": [
    "df.iat[1, 1]"
   ]
  },
  {
   "cell_type": "code",
   "execution_count": 48,
   "id": "c2e8c380-22c0-4b82-b46c-9904e0274ce2",
   "metadata": {},
   "outputs": [
    {
     "data": {
      "text/html": [
       "<div>\n",
       "<style scoped>\n",
       "    .dataframe tbody tr th:only-of-type {\n",
       "        vertical-align: middle;\n",
       "    }\n",
       "\n",
       "    .dataframe tbody tr th {\n",
       "        vertical-align: top;\n",
       "    }\n",
       "\n",
       "    .dataframe thead th {\n",
       "        text-align: right;\n",
       "    }\n",
       "</style>\n",
       "<table border=\"1\" class=\"dataframe\">\n",
       "  <thead>\n",
       "    <tr style=\"text-align: right;\">\n",
       "      <th></th>\n",
       "      <th>A</th>\n",
       "      <th>B</th>\n",
       "      <th>C</th>\n",
       "      <th>D</th>\n",
       "    </tr>\n",
       "  </thead>\n",
       "  <tbody>\n",
       "    <tr>\n",
       "      <th>1970-01-01 00:00:00.020130101</th>\n",
       "      <td>-0.026401</td>\n",
       "      <td>-0.775873</td>\n",
       "      <td>-1.296309</td>\n",
       "      <td>0.852299</td>\n",
       "    </tr>\n",
       "    <tr>\n",
       "      <th>1970-01-02 00:00:00.020130101</th>\n",
       "      <td>1.132846</td>\n",
       "      <td>-0.414975</td>\n",
       "      <td>-2.488727</td>\n",
       "      <td>-0.850545</td>\n",
       "    </tr>\n",
       "    <tr>\n",
       "      <th>1970-01-03 00:00:00.020130101</th>\n",
       "      <td>-0.612309</td>\n",
       "      <td>1.289009</td>\n",
       "      <td>0.070275</td>\n",
       "      <td>-0.208976</td>\n",
       "    </tr>\n",
       "    <tr>\n",
       "      <th>1970-01-04 00:00:00.020130101</th>\n",
       "      <td>1.598106</td>\n",
       "      <td>0.914315</td>\n",
       "      <td>-0.713180</td>\n",
       "      <td>0.255029</td>\n",
       "    </tr>\n",
       "    <tr>\n",
       "      <th>1970-01-05 00:00:00.020130101</th>\n",
       "      <td>-0.633304</td>\n",
       "      <td>-0.398617</td>\n",
       "      <td>0.098791</td>\n",
       "      <td>-0.240868</td>\n",
       "    </tr>\n",
       "    <tr>\n",
       "      <th>1970-01-06 00:00:00.020130101</th>\n",
       "      <td>2.138550</td>\n",
       "      <td>0.743311</td>\n",
       "      <td>-1.013176</td>\n",
       "      <td>-0.669759</td>\n",
       "    </tr>\n",
       "  </tbody>\n",
       "</table>\n",
       "</div>"
      ],
      "text/plain": [
       "                                      A         B         C         D\n",
       "1970-01-01 00:00:00.020130101 -0.026401 -0.775873 -1.296309  0.852299\n",
       "1970-01-02 00:00:00.020130101  1.132846 -0.414975 -2.488727 -0.850545\n",
       "1970-01-03 00:00:00.020130101 -0.612309  1.289009  0.070275 -0.208976\n",
       "1970-01-04 00:00:00.020130101  1.598106  0.914315 -0.713180  0.255029\n",
       "1970-01-05 00:00:00.020130101 -0.633304 -0.398617  0.098791 -0.240868\n",
       "1970-01-06 00:00:00.020130101  2.138550  0.743311 -1.013176 -0.669759"
      ]
     },
     "execution_count": 48,
     "metadata": {},
     "output_type": "execute_result"
    }
   ],
   "source": [
    "df"
   ]
  },
  {
   "cell_type": "code",
   "execution_count": 49,
   "id": "2ce08e6b-41fb-4d7c-9492-4d95cc88ea15",
   "metadata": {},
   "outputs": [
    {
     "data": {
      "text/html": [
       "<div>\n",
       "<style scoped>\n",
       "    .dataframe tbody tr th:only-of-type {\n",
       "        vertical-align: middle;\n",
       "    }\n",
       "\n",
       "    .dataframe tbody tr th {\n",
       "        vertical-align: top;\n",
       "    }\n",
       "\n",
       "    .dataframe thead th {\n",
       "        text-align: right;\n",
       "    }\n",
       "</style>\n",
       "<table border=\"1\" class=\"dataframe\">\n",
       "  <thead>\n",
       "    <tr style=\"text-align: right;\">\n",
       "      <th></th>\n",
       "      <th>A</th>\n",
       "      <th>B</th>\n",
       "      <th>C</th>\n",
       "      <th>D</th>\n",
       "    </tr>\n",
       "  </thead>\n",
       "  <tbody>\n",
       "    <tr>\n",
       "      <th>1970-01-02 00:00:00.020130101</th>\n",
       "      <td>1.132846</td>\n",
       "      <td>-0.414975</td>\n",
       "      <td>-2.488727</td>\n",
       "      <td>-0.850545</td>\n",
       "    </tr>\n",
       "    <tr>\n",
       "      <th>1970-01-04 00:00:00.020130101</th>\n",
       "      <td>1.598106</td>\n",
       "      <td>0.914315</td>\n",
       "      <td>-0.713180</td>\n",
       "      <td>0.255029</td>\n",
       "    </tr>\n",
       "    <tr>\n",
       "      <th>1970-01-06 00:00:00.020130101</th>\n",
       "      <td>2.138550</td>\n",
       "      <td>0.743311</td>\n",
       "      <td>-1.013176</td>\n",
       "      <td>-0.669759</td>\n",
       "    </tr>\n",
       "  </tbody>\n",
       "</table>\n",
       "</div>"
      ],
      "text/plain": [
       "                                      A         B         C         D\n",
       "1970-01-02 00:00:00.020130101  1.132846 -0.414975 -2.488727 -0.850545\n",
       "1970-01-04 00:00:00.020130101  1.598106  0.914315 -0.713180  0.255029\n",
       "1970-01-06 00:00:00.020130101  2.138550  0.743311 -1.013176 -0.669759"
      ]
     },
     "execution_count": 49,
     "metadata": {},
     "output_type": "execute_result"
    }
   ],
   "source": [
    "df[df[\"A\"] > 0]"
   ]
  },
  {
   "cell_type": "code",
   "execution_count": 50,
   "id": "5ae6d167-2647-4ced-9a2a-9f217ef58a6e",
   "metadata": {},
   "outputs": [
    {
     "data": {
      "text/html": [
       "<div>\n",
       "<style scoped>\n",
       "    .dataframe tbody tr th:only-of-type {\n",
       "        vertical-align: middle;\n",
       "    }\n",
       "\n",
       "    .dataframe tbody tr th {\n",
       "        vertical-align: top;\n",
       "    }\n",
       "\n",
       "    .dataframe thead th {\n",
       "        text-align: right;\n",
       "    }\n",
       "</style>\n",
       "<table border=\"1\" class=\"dataframe\">\n",
       "  <thead>\n",
       "    <tr style=\"text-align: right;\">\n",
       "      <th></th>\n",
       "      <th>A</th>\n",
       "      <th>B</th>\n",
       "      <th>C</th>\n",
       "      <th>D</th>\n",
       "    </tr>\n",
       "  </thead>\n",
       "  <tbody>\n",
       "    <tr>\n",
       "      <th>1970-01-01 00:00:00.020130101</th>\n",
       "      <td>NaN</td>\n",
       "      <td>NaN</td>\n",
       "      <td>NaN</td>\n",
       "      <td>0.852299</td>\n",
       "    </tr>\n",
       "    <tr>\n",
       "      <th>1970-01-02 00:00:00.020130101</th>\n",
       "      <td>1.132846</td>\n",
       "      <td>NaN</td>\n",
       "      <td>NaN</td>\n",
       "      <td>NaN</td>\n",
       "    </tr>\n",
       "    <tr>\n",
       "      <th>1970-01-03 00:00:00.020130101</th>\n",
       "      <td>NaN</td>\n",
       "      <td>1.289009</td>\n",
       "      <td>0.070275</td>\n",
       "      <td>NaN</td>\n",
       "    </tr>\n",
       "    <tr>\n",
       "      <th>1970-01-04 00:00:00.020130101</th>\n",
       "      <td>1.598106</td>\n",
       "      <td>0.914315</td>\n",
       "      <td>NaN</td>\n",
       "      <td>0.255029</td>\n",
       "    </tr>\n",
       "    <tr>\n",
       "      <th>1970-01-05 00:00:00.020130101</th>\n",
       "      <td>NaN</td>\n",
       "      <td>NaN</td>\n",
       "      <td>0.098791</td>\n",
       "      <td>NaN</td>\n",
       "    </tr>\n",
       "    <tr>\n",
       "      <th>1970-01-06 00:00:00.020130101</th>\n",
       "      <td>2.138550</td>\n",
       "      <td>0.743311</td>\n",
       "      <td>NaN</td>\n",
       "      <td>NaN</td>\n",
       "    </tr>\n",
       "  </tbody>\n",
       "</table>\n",
       "</div>"
      ],
      "text/plain": [
       "                                      A         B         C         D\n",
       "1970-01-01 00:00:00.020130101       NaN       NaN       NaN  0.852299\n",
       "1970-01-02 00:00:00.020130101  1.132846       NaN       NaN       NaN\n",
       "1970-01-03 00:00:00.020130101       NaN  1.289009  0.070275       NaN\n",
       "1970-01-04 00:00:00.020130101  1.598106  0.914315       NaN  0.255029\n",
       "1970-01-05 00:00:00.020130101       NaN       NaN  0.098791       NaN\n",
       "1970-01-06 00:00:00.020130101  2.138550  0.743311       NaN       NaN"
      ]
     },
     "execution_count": 50,
     "metadata": {},
     "output_type": "execute_result"
    }
   ],
   "source": [
    "df[df > 0]"
   ]
  },
  {
   "cell_type": "code",
   "execution_count": 53,
   "id": "53758d72-9d78-47cf-9630-5a1dfcd75174",
   "metadata": {},
   "outputs": [
    {
     "data": {
      "text/html": [
       "<div>\n",
       "<style scoped>\n",
       "    .dataframe tbody tr th:only-of-type {\n",
       "        vertical-align: middle;\n",
       "    }\n",
       "\n",
       "    .dataframe tbody tr th {\n",
       "        vertical-align: top;\n",
       "    }\n",
       "\n",
       "    .dataframe thead th {\n",
       "        text-align: right;\n",
       "    }\n",
       "</style>\n",
       "<table border=\"1\" class=\"dataframe\">\n",
       "  <thead>\n",
       "    <tr style=\"text-align: right;\">\n",
       "      <th></th>\n",
       "      <th>A</th>\n",
       "      <th>B</th>\n",
       "      <th>C</th>\n",
       "      <th>D</th>\n",
       "      <th>E</th>\n",
       "    </tr>\n",
       "  </thead>\n",
       "  <tbody>\n",
       "    <tr>\n",
       "      <th>1970-01-01 00:00:00.020130101</th>\n",
       "      <td>-0.026401</td>\n",
       "      <td>-0.775873</td>\n",
       "      <td>-1.296309</td>\n",
       "      <td>0.852299</td>\n",
       "      <td>one</td>\n",
       "    </tr>\n",
       "    <tr>\n",
       "      <th>1970-01-02 00:00:00.020130101</th>\n",
       "      <td>1.132846</td>\n",
       "      <td>-0.414975</td>\n",
       "      <td>-2.488727</td>\n",
       "      <td>-0.850545</td>\n",
       "      <td>one</td>\n",
       "    </tr>\n",
       "    <tr>\n",
       "      <th>1970-01-03 00:00:00.020130101</th>\n",
       "      <td>-0.612309</td>\n",
       "      <td>1.289009</td>\n",
       "      <td>0.070275</td>\n",
       "      <td>-0.208976</td>\n",
       "      <td>two</td>\n",
       "    </tr>\n",
       "    <tr>\n",
       "      <th>1970-01-04 00:00:00.020130101</th>\n",
       "      <td>1.598106</td>\n",
       "      <td>0.914315</td>\n",
       "      <td>-0.713180</td>\n",
       "      <td>0.255029</td>\n",
       "      <td>three</td>\n",
       "    </tr>\n",
       "    <tr>\n",
       "      <th>1970-01-05 00:00:00.020130101</th>\n",
       "      <td>-0.633304</td>\n",
       "      <td>-0.398617</td>\n",
       "      <td>0.098791</td>\n",
       "      <td>-0.240868</td>\n",
       "      <td>four</td>\n",
       "    </tr>\n",
       "    <tr>\n",
       "      <th>1970-01-06 00:00:00.020130101</th>\n",
       "      <td>2.138550</td>\n",
       "      <td>0.743311</td>\n",
       "      <td>-1.013176</td>\n",
       "      <td>-0.669759</td>\n",
       "      <td>three</td>\n",
       "    </tr>\n",
       "  </tbody>\n",
       "</table>\n",
       "</div>"
      ],
      "text/plain": [
       "                                      A         B         C         D      E\n",
       "1970-01-01 00:00:00.020130101 -0.026401 -0.775873 -1.296309  0.852299    one\n",
       "1970-01-02 00:00:00.020130101  1.132846 -0.414975 -2.488727 -0.850545    one\n",
       "1970-01-03 00:00:00.020130101 -0.612309  1.289009  0.070275 -0.208976    two\n",
       "1970-01-04 00:00:00.020130101  1.598106  0.914315 -0.713180  0.255029  three\n",
       "1970-01-05 00:00:00.020130101 -0.633304 -0.398617  0.098791 -0.240868   four\n",
       "1970-01-06 00:00:00.020130101  2.138550  0.743311 -1.013176 -0.669759  three"
      ]
     },
     "execution_count": 53,
     "metadata": {},
     "output_type": "execute_result"
    }
   ],
   "source": [
    "df2 = df.copy()\n",
    "df2[\"E\"] = [\"one\",\"one\",\"two\",\"three\",\"four\",\"three\"]\n",
    "df2"
   ]
  },
  {
   "cell_type": "code",
   "execution_count": 55,
   "id": "6f334bf0-e282-4e1e-99dd-59866ea5a3c2",
   "metadata": {},
   "outputs": [
    {
     "data": {
      "text/html": [
       "<div>\n",
       "<style scoped>\n",
       "    .dataframe tbody tr th:only-of-type {\n",
       "        vertical-align: middle;\n",
       "    }\n",
       "\n",
       "    .dataframe tbody tr th {\n",
       "        vertical-align: top;\n",
       "    }\n",
       "\n",
       "    .dataframe thead th {\n",
       "        text-align: right;\n",
       "    }\n",
       "</style>\n",
       "<table border=\"1\" class=\"dataframe\">\n",
       "  <thead>\n",
       "    <tr style=\"text-align: right;\">\n",
       "      <th></th>\n",
       "      <th>A</th>\n",
       "      <th>B</th>\n",
       "      <th>C</th>\n",
       "      <th>D</th>\n",
       "      <th>E</th>\n",
       "    </tr>\n",
       "  </thead>\n",
       "  <tbody>\n",
       "    <tr>\n",
       "      <th>1970-01-03 00:00:00.020130101</th>\n",
       "      <td>-0.612309</td>\n",
       "      <td>1.289009</td>\n",
       "      <td>0.070275</td>\n",
       "      <td>-0.208976</td>\n",
       "      <td>two</td>\n",
       "    </tr>\n",
       "    <tr>\n",
       "      <th>1970-01-05 00:00:00.020130101</th>\n",
       "      <td>-0.633304</td>\n",
       "      <td>-0.398617</td>\n",
       "      <td>0.098791</td>\n",
       "      <td>-0.240868</td>\n",
       "      <td>four</td>\n",
       "    </tr>\n",
       "  </tbody>\n",
       "</table>\n",
       "</div>"
      ],
      "text/plain": [
       "                                      A         B         C         D     E\n",
       "1970-01-03 00:00:00.020130101 -0.612309  1.289009  0.070275 -0.208976   two\n",
       "1970-01-05 00:00:00.020130101 -0.633304 -0.398617  0.098791 -0.240868  four"
      ]
     },
     "execution_count": 55,
     "metadata": {},
     "output_type": "execute_result"
    }
   ],
   "source": [
    "df2[df2[\"E\"].isin([\"two\",\"four\"])]"
   ]
  },
  {
   "cell_type": "code",
   "execution_count": 67,
   "id": "752fce41-f377-43aa-ad75-5573e9257758",
   "metadata": {},
   "outputs": [
    {
     "data": {
      "text/plain": [
       "2013-01-02    1\n",
       "2013-01-03    2\n",
       "2013-01-04    3\n",
       "2013-01-05    4\n",
       "2013-01-06    5\n",
       "2013-01-07    6\n",
       "Freq: D, dtype: int64"
      ]
     },
     "execution_count": 67,
     "metadata": {},
     "output_type": "execute_result"
    }
   ],
   "source": [
    "s1 = pd.Series([1, 2, 3, 4, 5, 6], index=pd.date_range(\"20130102\", periods=6))\n",
    "\n",
    "s1"
   ]
  },
  {
   "cell_type": "code",
   "execution_count": 58,
   "id": "54c62e94-bdf6-4c14-a6a4-c2417ed2cd27",
   "metadata": {},
   "outputs": [
    {
     "data": {
      "text/html": [
       "<div>\n",
       "<style scoped>\n",
       "    .dataframe tbody tr th:only-of-type {\n",
       "        vertical-align: middle;\n",
       "    }\n",
       "\n",
       "    .dataframe tbody tr th {\n",
       "        vertical-align: top;\n",
       "    }\n",
       "\n",
       "    .dataframe thead th {\n",
       "        text-align: right;\n",
       "    }\n",
       "</style>\n",
       "<table border=\"1\" class=\"dataframe\">\n",
       "  <thead>\n",
       "    <tr style=\"text-align: right;\">\n",
       "      <th></th>\n",
       "      <th>A</th>\n",
       "      <th>B</th>\n",
       "      <th>C</th>\n",
       "      <th>D</th>\n",
       "    </tr>\n",
       "  </thead>\n",
       "  <tbody>\n",
       "    <tr>\n",
       "      <th>1970-01-01 00:00:00.020130101</th>\n",
       "      <td>-0.026401</td>\n",
       "      <td>-0.775873</td>\n",
       "      <td>-1.296309</td>\n",
       "      <td>0.852299</td>\n",
       "    </tr>\n",
       "    <tr>\n",
       "      <th>1970-01-02 00:00:00.020130101</th>\n",
       "      <td>1.132846</td>\n",
       "      <td>-0.414975</td>\n",
       "      <td>-2.488727</td>\n",
       "      <td>-0.850545</td>\n",
       "    </tr>\n",
       "    <tr>\n",
       "      <th>1970-01-03 00:00:00.020130101</th>\n",
       "      <td>-0.612309</td>\n",
       "      <td>1.289009</td>\n",
       "      <td>0.070275</td>\n",
       "      <td>-0.208976</td>\n",
       "    </tr>\n",
       "    <tr>\n",
       "      <th>1970-01-04 00:00:00.020130101</th>\n",
       "      <td>1.598106</td>\n",
       "      <td>0.914315</td>\n",
       "      <td>-0.713180</td>\n",
       "      <td>0.255029</td>\n",
       "    </tr>\n",
       "    <tr>\n",
       "      <th>1970-01-05 00:00:00.020130101</th>\n",
       "      <td>-0.633304</td>\n",
       "      <td>-0.398617</td>\n",
       "      <td>0.098791</td>\n",
       "      <td>-0.240868</td>\n",
       "    </tr>\n",
       "    <tr>\n",
       "      <th>1970-01-06 00:00:00.020130101</th>\n",
       "      <td>2.138550</td>\n",
       "      <td>0.743311</td>\n",
       "      <td>-1.013176</td>\n",
       "      <td>-0.669759</td>\n",
       "    </tr>\n",
       "  </tbody>\n",
       "</table>\n",
       "</div>"
      ],
      "text/plain": [
       "                                      A         B         C         D\n",
       "1970-01-01 00:00:00.020130101 -0.026401 -0.775873 -1.296309  0.852299\n",
       "1970-01-02 00:00:00.020130101  1.132846 -0.414975 -2.488727 -0.850545\n",
       "1970-01-03 00:00:00.020130101 -0.612309  1.289009  0.070275 -0.208976\n",
       "1970-01-04 00:00:00.020130101  1.598106  0.914315 -0.713180  0.255029\n",
       "1970-01-05 00:00:00.020130101 -0.633304 -0.398617  0.098791 -0.240868\n",
       "1970-01-06 00:00:00.020130101  2.138550  0.743311 -1.013176 -0.669759"
      ]
     },
     "execution_count": 58,
     "metadata": {},
     "output_type": "execute_result"
    }
   ],
   "source": [
    "df"
   ]
  },
  {
   "cell_type": "code",
   "execution_count": 68,
   "id": "c427b75b-4155-4794-97aa-aece95ce8ea1",
   "metadata": {},
   "outputs": [
    {
     "data": {
      "text/html": [
       "<div>\n",
       "<style scoped>\n",
       "    .dataframe tbody tr th:only-of-type {\n",
       "        vertical-align: middle;\n",
       "    }\n",
       "\n",
       "    .dataframe tbody tr th {\n",
       "        vertical-align: top;\n",
       "    }\n",
       "\n",
       "    .dataframe thead th {\n",
       "        text-align: right;\n",
       "    }\n",
       "</style>\n",
       "<table border=\"1\" class=\"dataframe\">\n",
       "  <thead>\n",
       "    <tr style=\"text-align: right;\">\n",
       "      <th></th>\n",
       "      <th>A</th>\n",
       "      <th>B</th>\n",
       "      <th>C</th>\n",
       "      <th>D</th>\n",
       "      <th>F</th>\n",
       "    </tr>\n",
       "  </thead>\n",
       "  <tbody>\n",
       "    <tr>\n",
       "      <th>1970-01-01 00:00:00.020130101</th>\n",
       "      <td>0.000000</td>\n",
       "      <td>0.000000</td>\n",
       "      <td>-1.296309</td>\n",
       "      <td>5.0</td>\n",
       "      <td>NaN</td>\n",
       "    </tr>\n",
       "    <tr>\n",
       "      <th>1970-01-02 00:00:00.020130101</th>\n",
       "      <td>1.132846</td>\n",
       "      <td>-0.414975</td>\n",
       "      <td>-2.488727</td>\n",
       "      <td>5.0</td>\n",
       "      <td>NaN</td>\n",
       "    </tr>\n",
       "    <tr>\n",
       "      <th>1970-01-03 00:00:00.020130101</th>\n",
       "      <td>-0.612309</td>\n",
       "      <td>1.289009</td>\n",
       "      <td>0.070275</td>\n",
       "      <td>5.0</td>\n",
       "      <td>NaN</td>\n",
       "    </tr>\n",
       "    <tr>\n",
       "      <th>1970-01-04 00:00:00.020130101</th>\n",
       "      <td>1.598106</td>\n",
       "      <td>0.914315</td>\n",
       "      <td>-0.713180</td>\n",
       "      <td>5.0</td>\n",
       "      <td>NaN</td>\n",
       "    </tr>\n",
       "    <tr>\n",
       "      <th>1970-01-05 00:00:00.020130101</th>\n",
       "      <td>-0.633304</td>\n",
       "      <td>-0.398617</td>\n",
       "      <td>0.098791</td>\n",
       "      <td>5.0</td>\n",
       "      <td>NaN</td>\n",
       "    </tr>\n",
       "    <tr>\n",
       "      <th>1970-01-06 00:00:00.020130101</th>\n",
       "      <td>2.138550</td>\n",
       "      <td>0.743311</td>\n",
       "      <td>-1.013176</td>\n",
       "      <td>5.0</td>\n",
       "      <td>NaN</td>\n",
       "    </tr>\n",
       "  </tbody>\n",
       "</table>\n",
       "</div>"
      ],
      "text/plain": [
       "                                      A         B         C    D   F\n",
       "1970-01-01 00:00:00.020130101  0.000000  0.000000 -1.296309  5.0 NaN\n",
       "1970-01-02 00:00:00.020130101  1.132846 -0.414975 -2.488727  5.0 NaN\n",
       "1970-01-03 00:00:00.020130101 -0.612309  1.289009  0.070275  5.0 NaN\n",
       "1970-01-04 00:00:00.020130101  1.598106  0.914315 -0.713180  5.0 NaN\n",
       "1970-01-05 00:00:00.020130101 -0.633304 -0.398617  0.098791  5.0 NaN\n",
       "1970-01-06 00:00:00.020130101  2.138550  0.743311 -1.013176  5.0 NaN"
      ]
     },
     "execution_count": 68,
     "metadata": {},
     "output_type": "execute_result"
    }
   ],
   "source": [
    "df[\"F\"] = s1\n",
    "df"
   ]
  },
  {
   "cell_type": "code",
   "execution_count": 69,
   "id": "30880d00-df20-488e-8583-788385109b32",
   "metadata": {},
   "outputs": [
    {
     "data": {
      "text/html": [
       "<div>\n",
       "<style scoped>\n",
       "    .dataframe tbody tr th:only-of-type {\n",
       "        vertical-align: middle;\n",
       "    }\n",
       "\n",
       "    .dataframe tbody tr th {\n",
       "        vertical-align: top;\n",
       "    }\n",
       "\n",
       "    .dataframe thead th {\n",
       "        text-align: right;\n",
       "    }\n",
       "</style>\n",
       "<table border=\"1\" class=\"dataframe\">\n",
       "  <thead>\n",
       "    <tr style=\"text-align: right;\">\n",
       "      <th></th>\n",
       "      <th>A</th>\n",
       "      <th>B</th>\n",
       "      <th>C</th>\n",
       "      <th>D</th>\n",
       "      <th>F</th>\n",
       "    </tr>\n",
       "  </thead>\n",
       "  <tbody>\n",
       "    <tr>\n",
       "      <th>1970-01-01 00:00:00.020130101</th>\n",
       "      <td>0.000000</td>\n",
       "      <td>0.000000</td>\n",
       "      <td>-1.296309</td>\n",
       "      <td>5.0</td>\n",
       "      <td>NaN</td>\n",
       "    </tr>\n",
       "    <tr>\n",
       "      <th>1970-01-02 00:00:00.020130101</th>\n",
       "      <td>1.132846</td>\n",
       "      <td>-0.414975</td>\n",
       "      <td>-2.488727</td>\n",
       "      <td>5.0</td>\n",
       "      <td>NaN</td>\n",
       "    </tr>\n",
       "    <tr>\n",
       "      <th>1970-01-03 00:00:00.020130101</th>\n",
       "      <td>-0.612309</td>\n",
       "      <td>1.289009</td>\n",
       "      <td>0.070275</td>\n",
       "      <td>5.0</td>\n",
       "      <td>NaN</td>\n",
       "    </tr>\n",
       "    <tr>\n",
       "      <th>1970-01-04 00:00:00.020130101</th>\n",
       "      <td>1.598106</td>\n",
       "      <td>0.914315</td>\n",
       "      <td>-0.713180</td>\n",
       "      <td>5.0</td>\n",
       "      <td>NaN</td>\n",
       "    </tr>\n",
       "    <tr>\n",
       "      <th>1970-01-05 00:00:00.020130101</th>\n",
       "      <td>-0.633304</td>\n",
       "      <td>-0.398617</td>\n",
       "      <td>0.098791</td>\n",
       "      <td>5.0</td>\n",
       "      <td>NaN</td>\n",
       "    </tr>\n",
       "    <tr>\n",
       "      <th>1970-01-06 00:00:00.020130101</th>\n",
       "      <td>2.138550</td>\n",
       "      <td>0.743311</td>\n",
       "      <td>-1.013176</td>\n",
       "      <td>5.0</td>\n",
       "      <td>NaN</td>\n",
       "    </tr>\n",
       "  </tbody>\n",
       "</table>\n",
       "</div>"
      ],
      "text/plain": [
       "                                      A         B         C    D   F\n",
       "1970-01-01 00:00:00.020130101  0.000000  0.000000 -1.296309  5.0 NaN\n",
       "1970-01-02 00:00:00.020130101  1.132846 -0.414975 -2.488727  5.0 NaN\n",
       "1970-01-03 00:00:00.020130101 -0.612309  1.289009  0.070275  5.0 NaN\n",
       "1970-01-04 00:00:00.020130101  1.598106  0.914315 -0.713180  5.0 NaN\n",
       "1970-01-05 00:00:00.020130101 -0.633304 -0.398617  0.098791  5.0 NaN\n",
       "1970-01-06 00:00:00.020130101  2.138550  0.743311 -1.013176  5.0 NaN"
      ]
     },
     "execution_count": 69,
     "metadata": {},
     "output_type": "execute_result"
    }
   ],
   "source": [
    "df.at[dates[0],\"A\"]=0  # 0번 째 날짜에 해당하는 행의 A열 = 0이다\n",
    "df"
   ]
  },
  {
   "cell_type": "code",
   "execution_count": 70,
   "id": "74fd44ea-5370-45aa-9e9d-9e7a774e6d65",
   "metadata": {},
   "outputs": [
    {
     "data": {
      "text/html": [
       "<div>\n",
       "<style scoped>\n",
       "    .dataframe tbody tr th:only-of-type {\n",
       "        vertical-align: middle;\n",
       "    }\n",
       "\n",
       "    .dataframe tbody tr th {\n",
       "        vertical-align: top;\n",
       "    }\n",
       "\n",
       "    .dataframe thead th {\n",
       "        text-align: right;\n",
       "    }\n",
       "</style>\n",
       "<table border=\"1\" class=\"dataframe\">\n",
       "  <thead>\n",
       "    <tr style=\"text-align: right;\">\n",
       "      <th></th>\n",
       "      <th>A</th>\n",
       "      <th>B</th>\n",
       "      <th>C</th>\n",
       "      <th>D</th>\n",
       "      <th>F</th>\n",
       "    </tr>\n",
       "  </thead>\n",
       "  <tbody>\n",
       "    <tr>\n",
       "      <th>1970-01-01 00:00:00.020130101</th>\n",
       "      <td>0.000000</td>\n",
       "      <td>0.000000</td>\n",
       "      <td>-1.296309</td>\n",
       "      <td>5.0</td>\n",
       "      <td>NaN</td>\n",
       "    </tr>\n",
       "    <tr>\n",
       "      <th>1970-01-02 00:00:00.020130101</th>\n",
       "      <td>1.132846</td>\n",
       "      <td>-0.414975</td>\n",
       "      <td>-2.488727</td>\n",
       "      <td>5.0</td>\n",
       "      <td>NaN</td>\n",
       "    </tr>\n",
       "    <tr>\n",
       "      <th>1970-01-03 00:00:00.020130101</th>\n",
       "      <td>-0.612309</td>\n",
       "      <td>1.289009</td>\n",
       "      <td>0.070275</td>\n",
       "      <td>5.0</td>\n",
       "      <td>NaN</td>\n",
       "    </tr>\n",
       "    <tr>\n",
       "      <th>1970-01-04 00:00:00.020130101</th>\n",
       "      <td>1.598106</td>\n",
       "      <td>0.914315</td>\n",
       "      <td>-0.713180</td>\n",
       "      <td>5.0</td>\n",
       "      <td>NaN</td>\n",
       "    </tr>\n",
       "    <tr>\n",
       "      <th>1970-01-05 00:00:00.020130101</th>\n",
       "      <td>-0.633304</td>\n",
       "      <td>-0.398617</td>\n",
       "      <td>0.098791</td>\n",
       "      <td>5.0</td>\n",
       "      <td>NaN</td>\n",
       "    </tr>\n",
       "    <tr>\n",
       "      <th>1970-01-06 00:00:00.020130101</th>\n",
       "      <td>2.138550</td>\n",
       "      <td>0.743311</td>\n",
       "      <td>-1.013176</td>\n",
       "      <td>5.0</td>\n",
       "      <td>NaN</td>\n",
       "    </tr>\n",
       "  </tbody>\n",
       "</table>\n",
       "</div>"
      ],
      "text/plain": [
       "                                      A         B         C    D   F\n",
       "1970-01-01 00:00:00.020130101  0.000000  0.000000 -1.296309  5.0 NaN\n",
       "1970-01-02 00:00:00.020130101  1.132846 -0.414975 -2.488727  5.0 NaN\n",
       "1970-01-03 00:00:00.020130101 -0.612309  1.289009  0.070275  5.0 NaN\n",
       "1970-01-04 00:00:00.020130101  1.598106  0.914315 -0.713180  5.0 NaN\n",
       "1970-01-05 00:00:00.020130101 -0.633304 -0.398617  0.098791  5.0 NaN\n",
       "1970-01-06 00:00:00.020130101  2.138550  0.743311 -1.013176  5.0 NaN"
      ]
     },
     "execution_count": 70,
     "metadata": {},
     "output_type": "execute_result"
    }
   ],
   "source": [
    "df.iat[0,1] = 0  # 0번째와 1번째 해당하는 위치에 값을 0으로 넣는\n",
    "df"
   ]
  },
  {
   "cell_type": "code",
   "execution_count": 64,
   "id": "484dc545-03ad-44d3-b084-98b2c26f04ae",
   "metadata": {},
   "outputs": [
    {
     "data": {
      "text/html": [
       "<div>\n",
       "<style scoped>\n",
       "    .dataframe tbody tr th:only-of-type {\n",
       "        vertical-align: middle;\n",
       "    }\n",
       "\n",
       "    .dataframe tbody tr th {\n",
       "        vertical-align: top;\n",
       "    }\n",
       "\n",
       "    .dataframe thead th {\n",
       "        text-align: right;\n",
       "    }\n",
       "</style>\n",
       "<table border=\"1\" class=\"dataframe\">\n",
       "  <thead>\n",
       "    <tr style=\"text-align: right;\">\n",
       "      <th></th>\n",
       "      <th>A</th>\n",
       "      <th>B</th>\n",
       "      <th>C</th>\n",
       "      <th>D</th>\n",
       "      <th>F</th>\n",
       "    </tr>\n",
       "  </thead>\n",
       "  <tbody>\n",
       "    <tr>\n",
       "      <th>1970-01-01 00:00:00.020130101</th>\n",
       "      <td>0.000000</td>\n",
       "      <td>0.000000</td>\n",
       "      <td>-1.296309</td>\n",
       "      <td>5.0</td>\n",
       "      <td>NaN</td>\n",
       "    </tr>\n",
       "    <tr>\n",
       "      <th>1970-01-02 00:00:00.020130101</th>\n",
       "      <td>1.132846</td>\n",
       "      <td>-0.414975</td>\n",
       "      <td>-2.488727</td>\n",
       "      <td>5.0</td>\n",
       "      <td>NaN</td>\n",
       "    </tr>\n",
       "    <tr>\n",
       "      <th>1970-01-03 00:00:00.020130101</th>\n",
       "      <td>-0.612309</td>\n",
       "      <td>1.289009</td>\n",
       "      <td>0.070275</td>\n",
       "      <td>5.0</td>\n",
       "      <td>NaN</td>\n",
       "    </tr>\n",
       "    <tr>\n",
       "      <th>1970-01-04 00:00:00.020130101</th>\n",
       "      <td>1.598106</td>\n",
       "      <td>0.914315</td>\n",
       "      <td>-0.713180</td>\n",
       "      <td>5.0</td>\n",
       "      <td>NaN</td>\n",
       "    </tr>\n",
       "    <tr>\n",
       "      <th>1970-01-05 00:00:00.020130101</th>\n",
       "      <td>-0.633304</td>\n",
       "      <td>-0.398617</td>\n",
       "      <td>0.098791</td>\n",
       "      <td>5.0</td>\n",
       "      <td>NaN</td>\n",
       "    </tr>\n",
       "    <tr>\n",
       "      <th>1970-01-06 00:00:00.020130101</th>\n",
       "      <td>2.138550</td>\n",
       "      <td>0.743311</td>\n",
       "      <td>-1.013176</td>\n",
       "      <td>5.0</td>\n",
       "      <td>NaN</td>\n",
       "    </tr>\n",
       "  </tbody>\n",
       "</table>\n",
       "</div>"
      ],
      "text/plain": [
       "                                      A         B         C    D   F\n",
       "1970-01-01 00:00:00.020130101  0.000000  0.000000 -1.296309  5.0 NaN\n",
       "1970-01-02 00:00:00.020130101  1.132846 -0.414975 -2.488727  5.0 NaN\n",
       "1970-01-03 00:00:00.020130101 -0.612309  1.289009  0.070275  5.0 NaN\n",
       "1970-01-04 00:00:00.020130101  1.598106  0.914315 -0.713180  5.0 NaN\n",
       "1970-01-05 00:00:00.020130101 -0.633304 -0.398617  0.098791  5.0 NaN\n",
       "1970-01-06 00:00:00.020130101  2.138550  0.743311 -1.013176  5.0 NaN"
      ]
     },
     "execution_count": 64,
     "metadata": {},
     "output_type": "execute_result"
    }
   ],
   "source": [
    "df.loc[:,\"D\"] = np.array([5]*len(df))\n",
    "#  D열에  5의 배열로 값 지정"
   ]
  },
  {
   "cell_type": "code",
   "execution_count": 71,
   "id": "304f8a11-eaeb-42d2-95e6-2de1a8bed4fc",
   "metadata": {},
   "outputs": [],
   "source": [
    "df2 = df.copy()"
   ]
  },
  {
   "cell_type": "code",
   "execution_count": 72,
   "id": "0fa02c7c-6999-4061-8339-6e940f6a33bb",
   "metadata": {},
   "outputs": [
    {
     "data": {
      "text/html": [
       "<div>\n",
       "<style scoped>\n",
       "    .dataframe tbody tr th:only-of-type {\n",
       "        vertical-align: middle;\n",
       "    }\n",
       "\n",
       "    .dataframe tbody tr th {\n",
       "        vertical-align: top;\n",
       "    }\n",
       "\n",
       "    .dataframe thead th {\n",
       "        text-align: right;\n",
       "    }\n",
       "</style>\n",
       "<table border=\"1\" class=\"dataframe\">\n",
       "  <thead>\n",
       "    <tr style=\"text-align: right;\">\n",
       "      <th></th>\n",
       "      <th>A</th>\n",
       "      <th>B</th>\n",
       "      <th>C</th>\n",
       "      <th>D</th>\n",
       "      <th>F</th>\n",
       "    </tr>\n",
       "  </thead>\n",
       "  <tbody>\n",
       "    <tr>\n",
       "      <th>1970-01-01 00:00:00.020130101</th>\n",
       "      <td>0.000000</td>\n",
       "      <td>0.000000</td>\n",
       "      <td>-1.296309</td>\n",
       "      <td>5.0</td>\n",
       "      <td>NaN</td>\n",
       "    </tr>\n",
       "    <tr>\n",
       "      <th>1970-01-02 00:00:00.020130101</th>\n",
       "      <td>1.132846</td>\n",
       "      <td>-0.414975</td>\n",
       "      <td>-2.488727</td>\n",
       "      <td>5.0</td>\n",
       "      <td>NaN</td>\n",
       "    </tr>\n",
       "    <tr>\n",
       "      <th>1970-01-03 00:00:00.020130101</th>\n",
       "      <td>-0.612309</td>\n",
       "      <td>1.289009</td>\n",
       "      <td>0.070275</td>\n",
       "      <td>5.0</td>\n",
       "      <td>NaN</td>\n",
       "    </tr>\n",
       "    <tr>\n",
       "      <th>1970-01-04 00:00:00.020130101</th>\n",
       "      <td>1.598106</td>\n",
       "      <td>0.914315</td>\n",
       "      <td>-0.713180</td>\n",
       "      <td>5.0</td>\n",
       "      <td>NaN</td>\n",
       "    </tr>\n",
       "    <tr>\n",
       "      <th>1970-01-05 00:00:00.020130101</th>\n",
       "      <td>-0.633304</td>\n",
       "      <td>-0.398617</td>\n",
       "      <td>0.098791</td>\n",
       "      <td>5.0</td>\n",
       "      <td>NaN</td>\n",
       "    </tr>\n",
       "    <tr>\n",
       "      <th>1970-01-06 00:00:00.020130101</th>\n",
       "      <td>2.138550</td>\n",
       "      <td>0.743311</td>\n",
       "      <td>-1.013176</td>\n",
       "      <td>5.0</td>\n",
       "      <td>NaN</td>\n",
       "    </tr>\n",
       "  </tbody>\n",
       "</table>\n",
       "</div>"
      ],
      "text/plain": [
       "                                      A         B         C    D   F\n",
       "1970-01-01 00:00:00.020130101  0.000000  0.000000 -1.296309  5.0 NaN\n",
       "1970-01-02 00:00:00.020130101  1.132846 -0.414975 -2.488727  5.0 NaN\n",
       "1970-01-03 00:00:00.020130101 -0.612309  1.289009  0.070275  5.0 NaN\n",
       "1970-01-04 00:00:00.020130101  1.598106  0.914315 -0.713180  5.0 NaN\n",
       "1970-01-05 00:00:00.020130101 -0.633304 -0.398617  0.098791  5.0 NaN\n",
       "1970-01-06 00:00:00.020130101  2.138550  0.743311 -1.013176  5.0 NaN"
      ]
     },
     "execution_count": 72,
     "metadata": {},
     "output_type": "execute_result"
    }
   ],
   "source": [
    "df2[df2>0] = -df2\n",
    "df"
   ]
  },
  {
   "cell_type": "code",
   "execution_count": 74,
   "id": "75f3d985-5af0-433f-98a8-50d5a5637f51",
   "metadata": {},
   "outputs": [],
   "source": [
    "df1 = df.reindex(index=dates[0:4], columns=list(df.columns) + [\"E\"])"
   ]
  },
  {
   "cell_type": "code",
   "execution_count": 75,
   "id": "cb6cb8d6-3861-4572-82c8-d5ae35894f54",
   "metadata": {},
   "outputs": [
    {
     "ename": "NameError",
     "evalue": "name 'DF1' is not defined",
     "output_type": "error",
     "traceback": [
      "\u001b[1;31m---------------------------------------------------------------------------\u001b[0m",
      "\u001b[1;31mNameError\u001b[0m                                 Traceback (most recent call last)",
      "Cell \u001b[1;32mIn[75], line 2\u001b[0m\n\u001b[0;32m      1\u001b[0m df1\u001b[38;5;241m.\u001b[39mloc[dates[\u001b[38;5;241m0\u001b[39m] :dates[\u001b[38;5;241m1\u001b[39m], \u001b[38;5;124m\"\u001b[39m\u001b[38;5;124mE\u001b[39m\u001b[38;5;124m\"\u001b[39m] \u001b[38;5;241m=\u001b[39m\u001b[38;5;241m1\u001b[39m\n\u001b[1;32m----> 2\u001b[0m DF1\n",
      "\u001b[1;31mNameError\u001b[0m: name 'DF1' is not defined"
     ]
    }
   ],
   "source": [
    "df1.loc[dates[0] :dates[1], \"E\"] =1\n",
    "DF1"
   ]
  },
  {
   "cell_type": "code",
   "execution_count": null,
   "id": "6fcde0fe-28d1-4176-8d7d-d523f5d290a5",
   "metadata": {},
   "outputs": [],
   "source": []
  },
  {
   "cell_type": "code",
   "execution_count": null,
   "id": "2e5171e1-7ed7-4ff6-aae7-53dbee3dda5e",
   "metadata": {},
   "outputs": [],
   "source": []
  },
  {
   "cell_type": "code",
   "execution_count": null,
   "id": "dd3663bd-c559-43bd-b0be-474e8c8d4ece",
   "metadata": {},
   "outputs": [],
   "source": []
  },
  {
   "cell_type": "code",
   "execution_count": null,
   "id": "aa91fe6d-bfd1-488a-9a7a-b2362d519695",
   "metadata": {},
   "outputs": [],
   "source": []
  }
 ],
 "metadata": {
  "kernelspec": {
   "display_name": "Python 3 (ipykernel)",
   "language": "python",
   "name": "python3"
  },
  "language_info": {
   "codemirror_mode": {
    "name": "ipython",
    "version": 3
   },
   "file_extension": ".py",
   "mimetype": "text/x-python",
   "name": "python",
   "nbconvert_exporter": "python",
   "pygments_lexer": "ipython3",
   "version": "3.11.7"
  }
 },
 "nbformat": 4,
 "nbformat_minor": 5
}
